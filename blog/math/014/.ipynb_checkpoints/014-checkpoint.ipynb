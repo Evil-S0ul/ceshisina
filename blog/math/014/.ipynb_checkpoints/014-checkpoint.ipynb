{
 "cells": [
  {
   "cell_type": "code",
   "execution_count": 1,
   "metadata": {
    "collapsed": true
   },
   "outputs": [],
   "source": [
    "#第14节 100以内数的认识\n",
    "\n",
    "#百数表  \n",
    "def numberTable():  \n",
    "    for i in range(1, 11):  \n",
    "        for j in range(1, 11):  \n",
    "            print('{0:>3}'.format((i-1)*10 + j), end=',');  \n",
    "        print('\\n');  \n",
    "    return;  "
   ]
  },
  {
   "cell_type": "code",
   "execution_count": 2,
   "metadata": {
    "collapsed": false
   },
   "outputs": [
    {
     "name": "stdout",
     "output_type": "stream",
     "text": [
      "  1,  2,  3,  4,  5,  6,  7,  8,  9, 10,\n",
      "\n",
      " 11, 12, 13, 14, 15, 16, 17, 18, 19, 20,\n",
      "\n",
      " 21, 22, 23, 24, 25, 26, 27, 28, 29, 30,\n",
      "\n",
      " 31, 32, 33, 34, 35, 36, 37, 38, 39, 40,\n",
      "\n",
      " 41, 42, 43, 44, 45, 46, 47, 48, 49, 50,\n",
      "\n",
      " 51, 52, 53, 54, 55, 56, 57, 58, 59, 60,\n",
      "\n",
      " 61, 62, 63, 64, 65, 66, 67, 68, 69, 70,\n",
      "\n",
      " 71, 72, 73, 74, 75, 76, 77, 78, 79, 80,\n",
      "\n",
      " 81, 82, 83, 84, 85, 86, 87, 88, 89, 90,\n",
      "\n",
      " 91, 92, 93, 94, 95, 96, 97, 98, 99,100,\n",
      "\n"
     ]
    }
   ],
   "source": [
    "numberTable()"
   ]
  },
  {
   "cell_type": "code",
   "execution_count": 3,
   "metadata": {
    "collapsed": true
   },
   "outputs": [],
   "source": [
    "#数学游戏猜珠子  \n",
    "def guess():  \n",
    "    num = 58;  \n",
    "    answer = int(input('猜一猜，瓶子里有多少个珠子？'));  \n",
    "    while (answer != num):  \n",
    "        if answer < num - 5:  \n",
    "            print('不对，少了。');  \n",
    "        elif answer < num:  \n",
    "            print('比{0}多一点。'.format(answer));  \n",
    "        elif answer > num + 5:  \n",
    "            print('多了。');  \n",
    "        elif answer > num:  \n",
    "            print('比{0}要少一点。'.format(answer));  \n",
    "  \n",
    "        answer = int(input('继续猜。'));  \n",
    "    print('对了，你真棒！');  \n",
    "    return; "
   ]
  },
  {
   "cell_type": "code",
   "execution_count": 4,
   "metadata": {
    "collapsed": false
   },
   "outputs": [
    {
     "name": "stdout",
     "output_type": "stream",
     "text": [
      "猜一猜，瓶子里有多少个珠子？65\n",
      "多了。\n",
      "继续猜。63\n",
      "比63要少一点。\n",
      "继续猜。61\n",
      "比61要少一点。\n",
      "继续猜。60\n",
      "比60要少一点。\n",
      "继续猜。57\n",
      "比57多一点。\n",
      "继续猜。59\n",
      "比59要少一点。\n",
      "继续猜。58\n",
      "对了，你真棒！\n"
     ]
    }
   ],
   "source": [
    "guess()"
   ]
  },
  {
   "cell_type": "code",
   "execution_count": null,
   "metadata": {
    "collapsed": true
   },
   "outputs": [],
   "source": []
  }
 ],
 "metadata": {
  "kernelspec": {
   "display_name": "Python 3",
   "language": "python",
   "name": "python3"
  },
  "language_info": {
   "codemirror_mode": {
    "name": "ipython",
    "version": 3
   },
   "file_extension": ".py",
   "mimetype": "text/x-python",
   "name": "python",
   "nbconvert_exporter": "python",
   "pygments_lexer": "ipython3",
   "version": "3.5.2"
  }
 },
 "nbformat": 4,
 "nbformat_minor": 0
}
