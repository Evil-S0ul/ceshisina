{
 "cells": [
  {
   "cell_type": "code",
   "execution_count": 2,
   "metadata": {
    "collapsed": false
   },
   "outputs": [
    {
     "name": "stdout",
     "output_type": "stream",
     "text": [
      "8+8+8+88+888= 1000\n",
      "8+8+88+8+888= 1000\n",
      "8+88+8+8+888= 1000\n",
      "88+8+8+8+888= 1000\n",
      "8+8+8+888+88= 1000\n",
      "8+8+888+8+88= 1000\n",
      "8+888+8+8+88= 1000\n",
      "888+8+8+8+88= 1000\n",
      "8+8+88+888+8= 1000\n",
      "8+88+8+888+8= 1000\n",
      "88+8+8+888+8= 1000\n",
      "8+8+888+88+8= 1000\n",
      "8+888+8+88+8= 1000\n",
      "888+8+8+88+8= 1000\n",
      "8+88+888+8+8= 1000\n",
      "88+8+888+8+8= 1000\n",
      "8+888+88+8+8= 1000\n",
      "888+8+88+8+8= 1000\n",
      "88+888+8+8+8= 1000\n",
      "888+88+8+8+8= 1000\n"
     ]
    }
   ],
   "source": [
    "# @usage   只用数字8组成五个数，满足其和为1000  \n",
    "def tmp2():  \n",
    "    N = 5;  \n",
    "    array = [0]*N;  \n",
    "    a = [888, 88, 8]; \n",
    "    total = 0;  \n",
    "  \n",
    "    while (array[N-1] < 3):  \n",
    "        total = 0;  \n",
    "        s = '';  \n",
    "        for i in range(N):              \n",
    "            total += a[array[i]];  \n",
    "  \n",
    "        if (total == 1000):  \n",
    "            for i in range(N):  \n",
    "                s += str(a[array[i]]);  \n",
    "                if i < N-1:  \n",
    "                    s += '+';  \n",
    "            s += '= 1000';  \n",
    "            print(s);  \n",
    "              \n",
    "        array[0]+=1;  \n",
    "        for i in range(N-1):  \n",
    "            if array[i] > 2:  \n",
    "                array[i+1]+=1;  \n",
    "                array[i] = 0;  \n",
    "    return;  \n",
    "\n",
    "tmp2()"
   ]
  },
  {
   "cell_type": "code",
   "execution_count": 3,
   "metadata": {
    "collapsed": false
   },
   "outputs": [
    {
     "name": "stdout",
     "output_type": "stream",
     "text": [
      "165 + 280 在440和450之间。\n",
      "156 + 294 在440和450之间。\n"
     ]
    }
   ],
   "source": [
    "def tmp3():  \n",
    "    a = [165, 156,394,213,294,93,68,360,280,175];  \n",
    "    for i in range(len(a)):  \n",
    "        for j in range(i+1, len(a)):  \n",
    "            if (a[i] + a[j] >= 440 and a[i]+a[j]<=450):  \n",
    "                print('{0} + {1} 在440和450之间。'.format(a[i], a[j]));  \n",
    "                \n",
    "tmp3()"
   ]
  },
  {
   "cell_type": "code",
   "execution_count": 4,
   "metadata": {
    "collapsed": false
   },
   "outputs": [
    {
     "ename": "NameError",
     "evalue": "name 'adjacence' is not defined",
     "output_type": "error",
     "traceback": [
      "\u001b[0;31m---------------------------------------------------------------------------\u001b[0m",
      "\u001b[0;31mNameError\u001b[0m                                 Traceback (most recent call last)",
      "\u001b[0;32m<ipython-input-4-44756b51d772>\u001b[0m in \u001b[0;36m<module>\u001b[0;34m()\u001b[0m\n\u001b[1;32m      8\u001b[0m                 \u001b[0mprint\u001b[0m\u001b[0;34m(\u001b[0m\u001b[0;34m'{0} + {1} 在{2}和450之间。'\u001b[0m\u001b[0;34m.\u001b[0m\u001b[0mformat\u001b[0m\u001b[0;34m(\u001b[0m\u001b[0ma\u001b[0m\u001b[0;34m[\u001b[0m\u001b[0mi\u001b[0m\u001b[0;34m]\u001b[0m\u001b[0;34m,\u001b[0m \u001b[0ma\u001b[0m\u001b[0;34m[\u001b[0m\u001b[0mj\u001b[0m\u001b[0;34m]\u001b[0m\u001b[0;34m,\u001b[0m \u001b[0mminLevel\u001b[0m\u001b[0;34m)\u001b[0m\u001b[0;34m)\u001b[0m\u001b[0;34m;\u001b[0m\u001b[0;34m\u001b[0m\u001b[0m\n\u001b[1;32m      9\u001b[0m \u001b[0;34m\u001b[0m\u001b[0m\n\u001b[0;32m---> 10\u001b[0;31m \u001b[0mtmp4\u001b[0m\u001b[0;34m(\u001b[0m\u001b[0;34m)\u001b[0m\u001b[0;34m\u001b[0m\u001b[0m\n\u001b[0m",
      "\u001b[0;32m<ipython-input-4-44756b51d772>\u001b[0m in \u001b[0;36mtmp4\u001b[0;34m()\u001b[0m\n\u001b[1;32m      2\u001b[0m     \u001b[0;32mimport\u001b[0m \u001b[0mmath\u001b[0m\u001b[0;34m;\u001b[0m\u001b[0;34m\u001b[0m\u001b[0m\n\u001b[1;32m      3\u001b[0m     \u001b[0ma\u001b[0m \u001b[0;34m=\u001b[0m \u001b[0;34m[\u001b[0m\u001b[0;36m394\u001b[0m\u001b[0;34m,\u001b[0m\u001b[0;36m213\u001b[0m\u001b[0;34m,\u001b[0m\u001b[0;36m93\u001b[0m\u001b[0;34m,\u001b[0m\u001b[0;36m68\u001b[0m\u001b[0;34m,\u001b[0m\u001b[0;36m360\u001b[0m\u001b[0;34m,\u001b[0m\u001b[0;36m175\u001b[0m\u001b[0;34m]\u001b[0m\u001b[0;34m;\u001b[0m\u001b[0;34m\u001b[0m\u001b[0m\n\u001b[0;32m----> 4\u001b[0;31m     \u001b[0mminLevel\u001b[0m \u001b[0;34m=\u001b[0m \u001b[0madjacence\u001b[0m\u001b[0;34m(\u001b[0m\u001b[0msum\u001b[0m\u001b[0;34m(\u001b[0m\u001b[0ma\u001b[0m\u001b[0;34m)\u001b[0m \u001b[0;34m/\u001b[0m \u001b[0;34m(\u001b[0m\u001b[0mmath\u001b[0m\u001b[0;34m.\u001b[0m\u001b[0mceil\u001b[0m\u001b[0;34m(\u001b[0m\u001b[0msum\u001b[0m\u001b[0;34m(\u001b[0m\u001b[0ma\u001b[0m\u001b[0;34m)\u001b[0m\u001b[0;34m/\u001b[0m\u001b[0;36m450\u001b[0m\u001b[0;34m)\u001b[0m\u001b[0;34m+\u001b[0m\u001b[0;36m1\u001b[0m\u001b[0;34m)\u001b[0m\u001b[0;34m)\u001b[0m\u001b[0;34m;\u001b[0m\u001b[0;34m\u001b[0m\u001b[0m\n\u001b[0m\u001b[1;32m      5\u001b[0m     \u001b[0;32mfor\u001b[0m \u001b[0mi\u001b[0m \u001b[0;32min\u001b[0m \u001b[0mrange\u001b[0m\u001b[0;34m(\u001b[0m\u001b[0mlen\u001b[0m\u001b[0;34m(\u001b[0m\u001b[0ma\u001b[0m\u001b[0;34m)\u001b[0m\u001b[0;34m)\u001b[0m\u001b[0;34m:\u001b[0m\u001b[0;34m\u001b[0m\u001b[0m\n\u001b[1;32m      6\u001b[0m         \u001b[0;32mfor\u001b[0m \u001b[0mj\u001b[0m \u001b[0;32min\u001b[0m \u001b[0mrange\u001b[0m\u001b[0;34m(\u001b[0m\u001b[0mi\u001b[0m\u001b[0;34m+\u001b[0m\u001b[0;36m1\u001b[0m\u001b[0;34m,\u001b[0m \u001b[0mlen\u001b[0m\u001b[0;34m(\u001b[0m\u001b[0ma\u001b[0m\u001b[0;34m)\u001b[0m\u001b[0;34m)\u001b[0m\u001b[0;34m:\u001b[0m\u001b[0;34m\u001b[0m\u001b[0m\n",
      "\u001b[0;31mNameError\u001b[0m: name 'adjacence' is not defined"
     ]
    }
   ],
   "source": [
    "def tmp4():  \n",
    "    import math;  \n",
    "    a = [394,213,93,68,360,175];  \n",
    "    minLevel = adjacence(sum(a) / (math.ceil(sum(a)/450)+1));  \n",
    "    for i in range(len(a)):  \n",
    "        for j in range(i+1, len(a)):  \n",
    "            if (a[i] + a[j] >= minLevel and a[i]+a[j]<=450):  \n",
    "                print('{0} + {1} 在{2}和450之间。'.format(a[i], a[j], minLevel));\n",
    "                \n",
    "tmp4()"
   ]
  },
  {
   "cell_type": "code",
   "execution_count": 6,
   "metadata": {
    "collapsed": false
   },
   "outputs": [
    {
     "name": "stdout",
     "output_type": "stream",
     "text": [
      "买电话, 总共110元\n",
      "买书桌, 总共328元\n",
      "买电话, 书桌, 总共438元\n",
      "买收音机, 总共208元\n",
      "买电话, 收音机, 总共318元\n",
      "买风扇, 总共85元\n",
      "买电话, 风扇, 总共195元\n",
      "买书桌, 风扇, 总共413元\n",
      "买收音机, 风扇, 总共293元\n",
      "买电话, 收音机, 风扇, 总共403元\n",
      "买熨斗, 总共259元\n",
      "买电话, 熨斗, 总共369元\n",
      "买收音机, 熨斗, 总共467元\n",
      "买风扇, 熨斗, 总共344元\n",
      "买电话, 风扇, 熨斗, 总共454元\n",
      "买电饭锅, 总共152元\n",
      "买电话, 电饭锅, 总共262元\n",
      "买书桌, 电饭锅, 总共480元\n",
      "买收音机, 电饭锅, 总共360元\n",
      "买电话, 收音机, 电饭锅, 总共470元\n",
      "买风扇, 电饭锅, 总共237元\n",
      "买电话, 风扇, 电饭锅, 总共347元\n",
      "买收音机, 风扇, 电饭锅, 总共445元\n",
      "买熨斗, 电饭锅, 总共411元\n",
      "买风扇, 熨斗, 电饭锅, 总共496元\n",
      "买手表, 总共120元\n",
      "买电话, 手表, 总共230元\n",
      "买书桌, 手表, 总共448元\n",
      "买收音机, 手表, 总共328元\n",
      "买电话, 收音机, 手表, 总共438元\n",
      "买风扇, 手表, 总共205元\n",
      "买电话, 风扇, 手表, 总共315元\n",
      "买收音机, 风扇, 手表, 总共413元\n",
      "买熨斗, 手表, 总共379元\n",
      "买电话, 熨斗, 手表, 总共489元\n",
      "买风扇, 熨斗, 手表, 总共464元\n",
      "买电饭锅, 手表, 总共272元\n",
      "买电话, 电饭锅, 手表, 总共382元\n",
      "买收音机, 电饭锅, 手表, 总共480元\n",
      "买风扇, 电饭锅, 手表, 总共357元\n",
      "买电话, 风扇, 电饭锅, 手表, 总共467元\n",
      "买自行车, 总共245元\n",
      "买电话, 自行车, 总共355元\n",
      "买收音机, 自行车, 总共453元\n",
      "买风扇, 自行车, 总共330元\n",
      "买电话, 风扇, 自行车, 总共440元\n",
      "买电饭锅, 自行车, 总共397元\n",
      "买风扇, 电饭锅, 自行车, 总共482元\n",
      "买手表, 自行车, 总共365元\n",
      "买电话, 手表, 自行车, 总共475元\n",
      "买风扇, 手表, 自行车, 总共450元\n",
      "买外套, 总共98元\n",
      "买电话, 外套, 总共208元\n",
      "买书桌, 外套, 总共426元\n",
      "买收音机, 外套, 总共306元\n",
      "买电话, 收音机, 外套, 总共416元\n",
      "买风扇, 外套, 总共183元\n",
      "买电话, 风扇, 外套, 总共293元\n",
      "买收音机, 风扇, 外套, 总共391元\n",
      "买熨斗, 外套, 总共357元\n",
      "买电话, 熨斗, 外套, 总共467元\n",
      "买风扇, 熨斗, 外套, 总共442元\n",
      "买电饭锅, 外套, 总共250元\n",
      "买电话, 电饭锅, 外套, 总共360元\n",
      "买收音机, 电饭锅, 外套, 总共458元\n",
      "买风扇, 电饭锅, 外套, 总共335元\n",
      "买电话, 风扇, 电饭锅, 外套, 总共445元\n",
      "买手表, 外套, 总共218元\n",
      "买电话, 手表, 外套, 总共328元\n",
      "买收音机, 手表, 外套, 总共426元\n",
      "买风扇, 手表, 外套, 总共303元\n",
      "买电话, 风扇, 手表, 外套, 总共413元\n",
      "买熨斗, 手表, 外套, 总共477元\n",
      "买电饭锅, 手表, 外套, 总共370元\n",
      "买电话, 电饭锅, 手表, 外套, 总共480元\n",
      "买风扇, 电饭锅, 手表, 外套, 总共455元\n",
      "买自行车, 外套, 总共343元\n",
      "买电话, 自行车, 外套, 总共453元\n",
      "买风扇, 自行车, 外套, 总共428元\n",
      "买电饭锅, 自行车, 外套, 总共495元\n",
      "买手表, 自行车, 外套, 总共463元\n",
      "买洗衣机, 总共496元\n"
     ]
    }
   ],
   "source": [
    "def tmp6():  \n",
    "    N = 10;  \n",
    "    name = ['电话', '书桌', '收音机', '风扇', '熨斗', '电饭锅', '手表', '自行车', '外套', '洗衣机'];  \n",
    "    price = [110,328,208,85,259,152,120,245,98,496];  \n",
    "    array = [0] * N;  \n",
    "    total = 0;  \n",
    "  \n",
    "    while (array[N-1] < 2):  \n",
    "        total = 0;  \n",
    "        s = '买';  \n",
    "        for i in range(N):              \n",
    "            total += array[i]*price[i];  \n",
    "  \n",
    "        if (total < 500 and total > 0):  \n",
    "            for i in range(N):  \n",
    "                if array[i] != 0:  \n",
    "                    s += name[i];  \n",
    "                    s += ', ';  \n",
    "            s += '总共{0}元'.format(total);  \n",
    "            print(s);  \n",
    "              \n",
    "        array[0]+=1;  \n",
    "        for i in range(N-1):  \n",
    "            if array[i] > 1:  \n",
    "                array[i+1]+=1;  \n",
    "                array[i] = 0;  \n",
    "    return;\n",
    "\n",
    "tmp6()"
   ]
  },
  {
   "cell_type": "code",
   "execution_count": 8,
   "metadata": {
    "collapsed": false
   },
   "outputs": [
    {
     "name": "stdout",
     "output_type": "stream",
     "text": [
      "989 + 109 = 1098\n"
     ]
    }
   ],
   "source": [
    "def tmp7():  \n",
    "    #圆圈  \n",
    "    for a in range(10):  \n",
    "        #方块  \n",
    "        for b in range(10):  \n",
    "            if (b == a):  \n",
    "                continue;  \n",
    "            #三角  \n",
    "            for c in range(1, 10):  \n",
    "                if c==a or c==b:  \n",
    "                    continue;  \n",
    "                if (100*a + 80 + a +100*c + 10*b + a == 1000*c+100*b+10*a+8):  \n",
    "                    print('{0} + {1} = {2}' .format(100*a + 80 + a,100*c + 10*b + a,1000*c+100*b+10*a+8));  \n",
    "    return; \n",
    "\n",
    "tmp7()"
   ]
  },
  {
   "cell_type": "code",
   "execution_count": null,
   "metadata": {
    "collapsed": true
   },
   "outputs": [],
   "source": []
  }
 ],
 "metadata": {
  "kernelspec": {
   "display_name": "Python 3",
   "language": "python",
   "name": "python3"
  },
  "language_info": {
   "codemirror_mode": {
    "name": "ipython",
    "version": 3
   },
   "file_extension": ".py",
   "mimetype": "text/x-python",
   "name": "python",
   "nbconvert_exporter": "python",
   "pygments_lexer": "ipython3",
   "version": "3.5.2"
  }
 },
 "nbformat": 4,
 "nbformat_minor": 0
}
