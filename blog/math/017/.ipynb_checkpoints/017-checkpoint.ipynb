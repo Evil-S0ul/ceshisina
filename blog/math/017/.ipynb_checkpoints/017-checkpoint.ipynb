{
 "cells": [
  {
   "cell_type": "code",
   "execution_count": 1,
   "metadata": {
    "collapsed": false
   },
   "outputs": [
    {
     "name": "stdout",
     "output_type": "stream",
     "text": [
      "t c s \n",
      "\n",
      "c s t \n",
      "\n",
      "s t c \n",
      "\n",
      "['t', 'c', 's', 'c', 's', 't', 's', 't', 'c']\n"
     ]
    }
   ],
   "source": [
    "#第17节 找规律\n",
    "def tmp():  \n",
    "    a = ['t', 'c', 's'];  \n",
    "    b = [];  \n",
    "    size = len(a);  \n",
    "    for i in range(size):  \n",
    "        for j in range(size):  \n",
    "            b.append(a[(i+j)%size]);  \n",
    "            print(a[(i+j)%size], end=' ');  \n",
    "        print('\\n');  \n",
    "    print(b);  \n",
    "    return;  \n",
    "\n",
    "tmp()"
   ]
  },
  {
   "cell_type": "code",
   "execution_count": 2,
   "metadata": {
    "collapsed": false
   },
   "outputs": [
    {
     "name": "stdout",
     "output_type": "stream",
     "text": [
      "s c t \n",
      "\n",
      "c t s \n",
      "\n",
      "t s c \n",
      "\n",
      "['s', 'c', 't', 'c', 't', 's', 't', 's', 'c']\n"
     ]
    }
   ],
   "source": [
    "def tmp():  \n",
    "    a = ['t', 'c', 's'];  \n",
    "    b = [];  \n",
    "    size = len(a);  \n",
    "    for i in range(size):  \n",
    "        for j in range(size):  \n",
    "            b.append(a[size-1 - (i+j)%size]);  \n",
    "            print(a[size-1 - (i+j)%size], end=' ');  \n",
    "        print('\\n');  \n",
    "    print(b);  \n",
    "    return\n",
    "\n",
    "tmp()"
   ]
  },
  {
   "cell_type": "code",
   "execution_count": 3,
   "metadata": {
    "collapsed": false
   },
   "outputs": [
    {
     "name": "stdout",
     "output_type": "stream",
     "text": [
      "t s c \n",
      "\n",
      "c t s \n",
      "\n",
      "s c t \n",
      "\n",
      "['t', 's', 'c', 'c', 't', 's', 's', 'c', 't']\n"
     ]
    }
   ],
   "source": [
    "def tmp():  \n",
    "    a = ['t', 'c', 's'];  \n",
    "    b = [];  \n",
    "    size = len(a);  \n",
    "    for i in range(size):  \n",
    "        for j in range(size):  \n",
    "            b.append(a[(i-j)%size]);  \n",
    "            print(a[(i-j)%size], end=' ');  \n",
    "        print('\\n');  \n",
    "    print(b);  \n",
    "    return;  \n",
    "\n",
    "tmp()"
   ]
  },
  {
   "cell_type": "code",
   "execution_count": 4,
   "metadata": {
    "collapsed": false
   },
   "outputs": [
    {
     "name": "stdout",
     "output_type": "stream",
     "text": [
      "1 8 7 6 5 4 3 2 \n",
      "\n",
      "2 1 8 7 6 5 4 3 \n",
      "\n",
      "3 2 1 8 7 6 5 4 \n",
      "\n",
      "4 3 2 1 8 7 6 5 \n",
      "\n",
      "5 4 3 2 1 8 7 6 \n",
      "\n",
      "6 5 4 3 2 1 8 7 \n",
      "\n",
      "7 6 5 4 3 2 1 8 \n",
      "\n",
      "8 7 6 5 4 3 2 1 \n",
      "\n",
      "['1', '8', '7', '6', '5', '4', '3', '2', '2', '1', '8', '7', '6', '5', '4', '3', '3', '2', '1', '8', '7', '6', '5', '4', '4', '3', '2', '1', '8', '7', '6', '5', '5', '4', '3', '2', '1', '8', '7', '6', '6', '5', '4', '3', '2', '1', '8', '7', '7', '6', '5', '4', '3', '2', '1', '8', '8', '7', '6', '5', '4', '3', '2', '1']\n"
     ]
    }
   ],
   "source": [
    "def tmp():  \n",
    "    a = ['1', '2', '3', '4', '5', '6', '7', '8'];  \n",
    "    b = [];  \n",
    "    size = len(a);  \n",
    "    for i in range(size):  \n",
    "        for j in range(size):  \n",
    "            b.append(a[(i-j)%size]);  \n",
    "            print(a[(i-j)%size], end=' ');  \n",
    "        print('\\n');  \n",
    "    print(b);  \n",
    "    return; \n",
    "tmp()"
   ]
  },
  {
   "cell_type": "code",
   "execution_count": 5,
   "metadata": {
    "collapsed": false
   },
   "outputs": [
    {
     "name": "stdout",
     "output_type": "stream",
     "text": [
      "1 2 3 4 5 6 7 8 \n",
      "\n",
      "2 3 4 5 6 7 8 1 \n",
      "\n",
      "3 4 5 6 7 8 1 2 \n",
      "\n",
      "4 5 6 7 8 1 2 3 \n",
      "\n",
      "5 6 7 8 1 2 3 4 \n",
      "\n",
      "6 7 8 1 2 3 4 5 \n",
      "\n",
      "7 8 1 2 3 4 5 6 \n",
      "\n",
      "8 1 2 3 4 5 6 7 \n",
      "\n",
      "['1', '2', '3', '4', '5', '6', '7', '8', '2', '3', '4', '5', '6', '7', '8', '1', '3', '4', '5', '6', '7', '8', '1', '2', '4', '5', '6', '7', '8', '1', '2', '3', '5', '6', '7', '8', '1', '2', '3', '4', '6', '7', '8', '1', '2', '3', '4', '5', '7', '8', '1', '2', '3', '4', '5', '6', '8', '1', '2', '3', '4', '5', '6', '7']\n"
     ]
    }
   ],
   "source": [
    "def tmp():  \n",
    "    a = ['1', '2', '3', '4', '5', '6', '7', '8'];  \n",
    "    b = [];  \n",
    "    size = len(a);  \n",
    "    for i in range(size):  \n",
    "        for j in range(size):  \n",
    "            b.append(a[(i+j)%size]);  \n",
    "            print(a[(i+j)%size], end=' ');  \n",
    "        print('\\n');  \n",
    "    print(b);  \n",
    "    return;  \n",
    "\n",
    "tmp()"
   ]
  },
  {
   "cell_type": "code",
   "execution_count": 6,
   "metadata": {
    "collapsed": false
   },
   "outputs": [
    {
     "name": "stdout",
     "output_type": "stream",
     "text": [
      "1 2 3 4 5 6 7 8 \n",
      "\n",
      "2 3 4 5 6 7 8 1 \n",
      "\n",
      "3 4 5 6 7 8 1 2 \n",
      "\n",
      "4 5 6 7 8 1 2 3 \n",
      "\n",
      "5 6 7 8 1 2 3 4 \n",
      "\n",
      "6 7 8 1 2 3 4 5 \n",
      "\n",
      "7 8 1 2 3 4 5 6 \n",
      "\n",
      "8 1 2 3 4 5 6 7 \n",
      "\n",
      "['1', '2', '3', '4', '5', '6', '7', '8']\n",
      "['2', '3', '4', '5', '6', '7', '8', '1']\n",
      "['3', '4', '5', '6', '7', '8', '1', '2']\n",
      "['4', '5', '6', '7', '8', '1', '2', '3']\n",
      "['5', '6', '7', '8', '1', '2', '3', '4']\n",
      "['6', '7', '8', '1', '2', '3', '4', '5']\n",
      "['7', '8', '1', '2', '3', '4', '5', '6']\n",
      "['8', '1', '2', '3', '4', '5', '6', '7']\n"
     ]
    }
   ],
   "source": [
    "#跑马灯\n",
    "def tmp():  \n",
    "    a = ['1', '2', '3', '4', '5', '6', '7', '8'];  \n",
    "    size = len(a);  \n",
    "    b = [[]]*size;  \n",
    "    for i in range(size):  \n",
    "        b[i] = [];  \n",
    "        for j in range(size):  \n",
    "            b[i].append(a[(i+j)%size]);  \n",
    "            print(a[(i+j)%size], end=' ');  \n",
    "        print('\\n');  \n",
    "    for i in range(len(b)):  \n",
    "        print(b[i]);  \n",
    "    return;  \n",
    "\n",
    "tmp()"
   ]
  },
  {
   "cell_type": "code",
   "execution_count": null,
   "metadata": {
    "collapsed": true
   },
   "outputs": [],
   "source": []
  }
 ],
 "metadata": {
  "kernelspec": {
   "display_name": "Python 3",
   "language": "python",
   "name": "python3"
  },
  "language_info": {
   "codemirror_mode": {
    "name": "ipython",
    "version": 3
   },
   "file_extension": ".py",
   "mimetype": "text/x-python",
   "name": "python",
   "nbconvert_exporter": "python",
   "pygments_lexer": "ipython3",
   "version": "3.5.2"
  }
 },
 "nbformat": 4,
 "nbformat_minor": 0
}
