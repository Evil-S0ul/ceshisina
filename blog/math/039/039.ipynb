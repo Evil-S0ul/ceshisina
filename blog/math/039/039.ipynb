{
 "cells": [
  {
   "cell_type": "code",
   "execution_count": 1,
   "metadata": {
    "collapsed": false
   },
   "outputs": [
    {
     "name": "stdout",
     "output_type": "stream",
     "text": [
      "203 接近 200\n",
      "195 接近 200\n",
      "123 接近 100\n",
      "285 接近 300\n",
      "308 接近 300\n",
      "215 接近 200\n",
      "114 接近 100\n",
      "452 接近 450\n",
      "447 接近 450\n",
      "436 接近 440\n",
      "441 接近 440\n",
      "458 接近 460\n",
      "459 接近 460\n",
      "463 接近 460\n"
     ]
    }
   ],
   "source": [
    "# 第39节 万以内的加法和减法（一）\n",
    "\n",
    "###  \n",
    "# @usage   确定一个整数最接近的低一精度数  \n",
    "# @author  mw  \n",
    "# @date    2016年01月12日  星期二  09:30:09   \n",
    "# @param  \n",
    "# @return  \n",
    "#  \n",
    "###  \n",
    "  \n",
    "def adjacence(number):  \n",
    "    mod = 10;  \n",
    "    while (number % mod == 0):  \n",
    "        mod *= 10;  \n",
    "  \n",
    "    if number % mod >= mod//2:  \n",
    "        adj = (number//mod+1) * mod;  \n",
    "    else:  \n",
    "        adj = (number//mod) * mod;  \n",
    "    print('{0} 接近 {1}'.format(number, adj));  \n",
    "      \n",
    "  \n",
    "def adjacenceGivingRank(number, mod):  \n",
    "    if number % mod >= mod//2:  \n",
    "        adj = (number//mod+1) * mod;  \n",
    "    else:  \n",
    "        adj = (number//mod) * mod;  \n",
    "    print('{0} 接近 {1}'.format(number, adj));             \n",
    "  \n",
    "      \n",
    "if __name__ == '__main__':  \n",
    "    quest = [203,195,123,285,308,215,114];  \n",
    "    for i in range(len(quest)):  \n",
    "        adjacenceGivingRank(quest[i], 100);  \n",
    "  \n",
    "    quest = [452,447,436,441,458,459,463];  \n",
    "    for i in range(len(quest)):  \n",
    "        adjacence(quest[i]); "
   ]
  },
  {
   "cell_type": "code",
   "execution_count": null,
   "metadata": {
    "collapsed": true
   },
   "outputs": [],
   "source": []
  }
 ],
 "metadata": {
  "kernelspec": {
   "display_name": "Python 3",
   "language": "python",
   "name": "python3"
  },
  "language_info": {
   "codemirror_mode": {
    "name": "ipython",
    "version": 3
   },
   "file_extension": ".py",
   "mimetype": "text/x-python",
   "name": "python",
   "nbconvert_exporter": "python",
   "pygments_lexer": "ipython3",
   "version": "3.5.2"
  }
 },
 "nbformat": 4,
 "nbformat_minor": 0
}
