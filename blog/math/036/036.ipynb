{
 "cells": [
  {
   "cell_type": "code",
   "execution_count": 2,
   "metadata": {
    "collapsed": false
   },
   "outputs": [
    {
     "name": "stdout",
     "output_type": "stream",
     "text": [
      "小红 拿的是 语文, 小丽拿的是品德与生活, 小刚拿的是数学\n"
     ]
    }
   ],
   "source": [
    "#第36节 数学广角──推理\n",
    "\n",
    "def tmp():  \n",
    "    a = ['小红', '小丽', '小刚'];  \n",
    "    b = ['语文', '数学', '品德与生活'];  \n",
    "      \n",
    "    result = [];  \n",
    "    for i in range(len(a)):  \n",
    "        for j in range(len(b)):  \n",
    "            result.append([a[i],b[j]]);  \n",
    "  \n",
    "    for i in range(len(result)):  \n",
    "        for j in range(len(result)):  \n",
    "            for k in range(len(result)):  \n",
    "                if i == j or i == k or j == k:  \n",
    "                    continue;  \n",
    "                elif (result[i][0] != a[0] or result[i][1] != b[0]):  \n",
    "                    continue;  \n",
    "                elif (result[j][0] != a[1] or result[j][1] == b[1]):  \n",
    "                    continue;  \n",
    "                elif (result[k][0] != a[2]):  \n",
    "                    continue;  \n",
    "                elif (result[i][1] == result[j][1] or result[i][1] == result[k][1] or result[j][1] == result[k][1]):  \n",
    "                    continue;  \n",
    "                else:  \n",
    "                    print('{0} 拿的是 {1}, {2}拿的是{3}, {4}拿的是{5}'.format( result[i][0], result[i][1],  result[j][0], result[j][1], result[k][0], result[k][1]));  \n",
    "  \n",
    "  \n",
    "                         \n",
    "if __name__ == '__main__':  \n",
    "    tmp();  "
   ]
  },
  {
   "cell_type": "code",
   "execution_count": 4,
   "metadata": {
    "collapsed": false
   },
   "outputs": [
    {
     "name": "stdout",
     "output_type": "stream",
     "text": [
      "欢欢重7千克, 乐乐重9千克, 笑笑重5千克\n"
     ]
    }
   ],
   "source": [
    "def tmp():  \n",
    "    a = ['欢欢', '乐乐', '笑笑'];  \n",
    "    b = [7, 5, 9];  \n",
    "      \n",
    "    result = [];  \n",
    "    for i in range(len(a)):  \n",
    "        for j in range(len(b)):  \n",
    "            result.append([a[i],b[j]]);  \n",
    "      \n",
    "    for i in range(len(result)):  \n",
    "        for j in range(len(result)):  \n",
    "            for k in range(len(result)):  \n",
    "                if  (result[i][0] == result[j][0] or result[i][0] == result[k][0] or result[j][0] == result[k][0]):  \n",
    "                    continue;  \n",
    "                elif (result[i][1] == result[j][1] or result[i][1] == result[k][1] or result[j][1] == result[k][1]):  \n",
    "                    continue;  \n",
    "                elif (result[i][0] != a[0] or result[j][0] != a[1] or  result[k][0] != a[2]):  \n",
    "                    continue;  \n",
    "                elif (result[i][1] > result[j][1]):  \n",
    "                    continue;  \n",
    "                elif (result[k][1] > result[i][1] or  result[k][1] > result[j][1]):  \n",
    "                    continue;  \n",
    "                else:  \n",
    "                    print('{0}重{1}千克, {2}重{3}千克, {4}重{5}千克'.format( result[i][0], result[i][1], result[j][0], result[j][1],   result[k][0], result[k][1]));  \n",
    "  \n",
    "  \n",
    "                         \n",
    "if __name__ == '__main__':  \n",
    "    tmp(); "
   ]
  },
  {
   "cell_type": "code",
   "execution_count": 5,
   "metadata": {
    "collapsed": false
   },
   "outputs": [
    {
     "name": "stdout",
     "output_type": "stream",
     "text": [
      "小冬在一斑, 小雨在二斑, 小伟在三班\n"
     ]
    }
   ],
   "source": [
    "def tmp():  \n",
    "    a = ['小冬', '小雨', '小伟'];  \n",
    "    b = ['一斑', '二斑', '三班'];  \n",
    "      \n",
    "    result = [];  \n",
    "    for i in range(len(a)):  \n",
    "        for j in range(len(b)):  \n",
    "            result.append([a[i],b[j]]);  \n",
    "      \n",
    "    for i in range(len(result)):  \n",
    "        for j in range(len(result)):  \n",
    "            for k in range(len(result)):  \n",
    "                if  (result[i][0] == result[j][0] or result[i][0] == result[k][0] or  result[j][0] == result[k][0]):  \n",
    "                    continue;  \n",
    "                elif (result[i][1] == result[j][1] or  result[i][1] == result[k][1] or  result[j][1] == result[k][1]):  \n",
    "                    continue;  \n",
    "                elif (result[i][0] != a[0] or  result[j][0] != a[1] or  result[k][0] != a[2]):  \n",
    "                    continue;  \n",
    "                #各题判断条件的区别从这里开始  \n",
    "                elif (result[k][1] != b[2]):  \n",
    "                    continue;  \n",
    "                elif (result[j][1]== b[0]):  \n",
    "                    continue;  \n",
    "                else:  \n",
    "                    print('{0}在{1}, {2}在{3}, {4}在{5}'.format( result[i][0], result[i][1], result[j][0], result[j][1], result[k][0], result[k][1]));  \n",
    "  \n",
    "  \n",
    "                         \n",
    "if __name__ == '__main__':  \n",
    "    tmp(); "
   ]
  },
  {
   "cell_type": "code",
   "execution_count": 6,
   "metadata": {
    "collapsed": false
   },
   "outputs": [
    {
     "name": "stdout",
     "output_type": "stream",
     "text": [
      "[[1, 2, 3, 4], [1, 2, 4, 3], [1, 3, 2, 4], [1, 3, 4, 2], [1, 4, 2, 3], [1, 4, 3, 2], [2, 1, 3, 4], [2, 1, 4, 3], [2, 3, 1, 4], [2, 3, 4, 1], [2, 4, 1, 3], [2, 4, 3, 1], [3, 1, 2, 4], [3, 1, 4, 2], [3, 2, 1, 4], [3, 2, 4, 1], [3, 4, 1, 2], [3, 4, 2, 1], [4, 1, 2, 3], [4, 1, 3, 2], [4, 2, 1, 3], [4, 2, 3, 1], [4, 3, 1, 2], [4, 3, 2, 1]]\n",
      "共有24个候选者\n"
     ]
    }
   ],
   "source": [
    "def perm(array):  \n",
    "    if (len(array)<=1):  \n",
    "        return [array];  \n",
    "  \n",
    "    r = [];  \n",
    "    for i in range(len(array)):  \n",
    "        #抽去array[i]  \n",
    "        s = array[:i]+array[i+1:];  \n",
    "        p = perm(s);  \n",
    "        for x in p:  \n",
    "            #array[i]置顶  \n",
    "            r.append(array[i:i+1]+x);  \n",
    "    return r;  \n",
    "  \n",
    "\n",
    "    \n",
    "def tmp():  \n",
    "    array = [1,2,3,4];  \n",
    "    candidate = perm(array);  \n",
    "    print(candidate);  \n",
    "    print('共有{0}个候选者'.format(len(candidate)));\n",
    "    \n",
    "tmp()    "
   ]
  },
  {
   "cell_type": "code",
   "execution_count": 7,
   "metadata": {
    "collapsed": true
   },
   "outputs": [],
   "source": [
    "#测试有效性  \n",
    "def effective(num, matrix, row, col):  \n",
    "    span = len(matrix);  \n",
    "  \n",
    "    for i in range(span):  \n",
    "        if matrix[i][col] == num:  \n",
    "            return 0;  \n",
    "  \n",
    "    for j in range(span):  \n",
    "        if matrix[row][j] == num:  \n",
    "            return 0;  \n",
    "  \n",
    "    return 1;  \n",
    "  \n",
    "#测试结果是否成功  \n",
    "def success(matrix):  \n",
    "    for i in iter(matrix):  \n",
    "        if i == 0:  \n",
    "            return 0;  \n",
    "  \n",
    "    return 1;"
   ]
  },
  {
   "cell_type": "code",
   "execution_count": 12,
   "metadata": {
    "collapsed": false
   },
   "outputs": [],
   "source": [
    "def puzzle():  \n",
    "    span = 4;  \n",
    "    a = [[0]*span for i in range(span)];  \n",
    "    tryArray = [];  \n",
    "    tried  = [];  \n",
    "  \n",
    "    a[0][0]=3;  \n",
    "    a[0][1]=2;  \n",
    "    a[1][3]=2;  \n",
    "    a[2][2]=3;  \n",
    "    a[3][0]=1;  \n",
    "  \n",
    "    print('原矩阵是：');  \n",
    "    for i in range(span):  \n",
    "        print(a[i]);  \n",
    "  \n",
    "    step = 0;  \n",
    "    gameover = 0;  \n",
    "      \n",
    "    for row in range(span):  \n",
    "        if gameover == 1:  \n",
    "            break;  \n",
    "        for col in range(span):  \n",
    "            step+=1;  \n",
    "            if (a[row][col] == 0):  \n",
    "                tryArray = [];  \n",
    "                for num in range(1, span+1):  \n",
    "                    #数字num放在row, col处时和矩阵a不冲突就行  \n",
    "                    if effective(num, a, row, col):                      \n",
    "                        tryArray.append(num);  \n",
    "  \n",
    "                #考虑到让机器全程回溯不靠谱，实现为让机器给出选项，您来选择。  \n",
    "                if len(tryArray)>1:  \n",
    "                    print('第{0}步：现在的矩阵是：'.format(step));  \n",
    "                    for i in range(span):  \n",
    "                        print(a[i]);  \n",
    "                          \n",
    "                    print('第{0}行, 第{1}列处的选择超过一个。有以下选择：'.format(row+1, col+1));  \n",
    "                         \n",
    "                    for i in range(len(tryArray)):  \n",
    "                        print(tryArray[i], end=', ');  \n",
    "                      \n",
    "                    a[row][col] = int(input('请输入您的选择：'));  \n",
    "                    tried.append(a[row][col]);  \n",
    "                elif len(tryArray)==1:  \n",
    "                    a[row][col] = tryArray[0];  \n",
    "                else:  \n",
    "                    print('\\n\\n前几步的选择造成无解的困境，请重新尝试，Game Over。');  \n",
    "                    print('您所做过的选择是：');  \n",
    "                    for i in range(len(tried)):  \n",
    "                        print(tried[i], end=', ');  \n",
    "                    gameover = 1;                      \n",
    "                      \n",
    "    if success(a):  \n",
    "        print('\\n\\n您成功了，您做了英明正确的选择，您所做的选择是：');  \n",
    "        for i in range(len(tried)):  \n",
    "            print(tried[i], end=', ');  \n",
    "          \n",
    "        print('新矩阵是：');  \n",
    "        for i in range(span):  \n",
    "            print(a[i]);"
   ]
  },
  {
   "cell_type": "code",
   "execution_count": 13,
   "metadata": {
    "collapsed": false
   },
   "outputs": [
    {
     "name": "stdout",
     "output_type": "stream",
     "text": [
      "原矩阵是：\n",
      "[3, 2, 0, 0]\n",
      "[0, 0, 0, 2]\n",
      "[0, 0, 3, 0]\n",
      "[1, 0, 0, 0]\n",
      "第3步：现在的矩阵是：\n",
      "[3, 2, 0, 0]\n",
      "[0, 0, 0, 2]\n",
      "[0, 0, 3, 0]\n",
      "[1, 0, 0, 0]\n",
      "第1行, 第3列处的选择超过一个。有以下选择：\n",
      "1, 4, 请输入您的选择：1\n",
      "第6步：现在的矩阵是：\n",
      "[3, 2, 1, 4]\n",
      "[4, 0, 0, 2]\n",
      "[0, 0, 3, 0]\n",
      "[1, 0, 0, 0]\n",
      "第2行, 第2列处的选择超过一个。有以下选择：\n",
      "1, 3, 请输入您的选择：3\n",
      "\n",
      "\n",
      "前几步的选择造成无解的困境，请重新尝试，Game Over。\n",
      "您所做过的选择是：\n",
      "1, 3, \n",
      "\n",
      "您成功了，您做了英明正确的选择，您所做的选择是：\n",
      "1, 3, 新矩阵是：\n",
      "[3, 2, 1, 4]\n",
      "[4, 3, 0, 2]\n",
      "[0, 0, 3, 0]\n",
      "[1, 0, 0, 0]\n"
     ]
    }
   ],
   "source": [
    "puzzle()"
   ]
  },
  {
   "cell_type": "code",
   "execution_count": 14,
   "metadata": {
    "collapsed": false
   },
   "outputs": [
    {
     "name": "stdout",
     "output_type": "stream",
     "text": [
      "27 + 31 = 58\n",
      "37 + 21 = 58\n"
     ]
    }
   ],
   "source": [
    "def hasRepeat(array):  \n",
    "    size = len(array);  \n",
    "    for i in range(size):  \n",
    "        for j in range(i+1, size):  \n",
    "            if array[i] == array[j]:  \n",
    "                return 1;  \n",
    "  \n",
    "    return 0;  \n",
    "  \n",
    "def puzzle2():  \n",
    "    array = [];  \n",
    "    for a in range(1, 10):  \n",
    "        for b in range(1, 10):  \n",
    "            for c in range(1, 10):  \n",
    "                if (10*a + 7 + 10*b + c) == 58:  \n",
    "                    array=[5, 8, 7, a, b, c];  \n",
    "                    if hasRepeat(array) == 1:  \n",
    "                        pass;  \n",
    "                    else:  \n",
    "                        print('{0} + {1} = 58'.format(a*10+7, b*10+c));  \n",
    "                    array=[]; \n",
    "                    \n",
    "puzzle2()                    "
   ]
  },
  {
   "cell_type": "code",
   "execution_count": 15,
   "metadata": {
    "collapsed": false
   },
   "outputs": [
    {
     "name": "stdout",
     "output_type": "stream",
     "text": [
      "12 + 74 = 86\n",
      "14 + 72 = 86\n",
      "27 + 59 = 86\n",
      "29 + 57 = 86\n",
      "32 + 54 = 86\n",
      "34 + 52 = 86\n",
      "37 + 49 = 86\n",
      "39 + 47 = 86\n",
      "47 + 39 = 86\n",
      "49 + 37 = 86\n",
      "52 + 34 = 86\n",
      "54 + 32 = 86\n",
      "57 + 29 = 86\n",
      "59 + 27 = 86\n",
      "72 + 14 = 86\n",
      "74 + 12 = 86\n"
     ]
    }
   ],
   "source": [
    "def puzzle2():  \n",
    "    array = [];  \n",
    "    for a in range(1, 10):  \n",
    "        for b in range(1, 10):  \n",
    "            for c in range(1, 10):  \n",
    "                for d in range(1, 10):  \n",
    "                    if (10*a + b + 10*c + d) == 86:  \n",
    "                        array=[8, 6, a, b, c, d];  \n",
    "                        if hasRepeat(array) == 1:  \n",
    "                            pass;  \n",
    "                        else:  \n",
    "                            print('{0} + {1} = 86'.format(a*10+b, c*10+d));  \n",
    "                        array=[]; \n",
    "                        \n",
    "puzzle2()                        "
   ]
  },
  {
   "cell_type": "code",
   "execution_count": 16,
   "metadata": {
    "collapsed": false
   },
   "outputs": [
    {
     "name": "stdout",
     "output_type": "stream",
     "text": [
      "92 - 18 = 74\n"
     ]
    }
   ],
   "source": [
    "def puzzle2():  \n",
    "    array = [];  \n",
    "    for a in range(1, 10):  \n",
    "        for b in range(1, 10):  \n",
    "            for c in range(1, 10):  \n",
    "                for d in range(8,9):  \n",
    "                    if (10*a + b - (10*c + d)) == 74:  \n",
    "                        array=[7, 4, a, b, c, d];  \n",
    "                        if hasRepeat(array) == 1:  \n",
    "                            pass;  \n",
    "                        else:  \n",
    "                            print('{0} - {1} = 74'.format(a*10+b, c*10+d));  \n",
    "                        array=[];  \n",
    "                        \n",
    "puzzle2()                          "
   ]
  },
  {
   "cell_type": "code",
   "execution_count": 17,
   "metadata": {
    "collapsed": false
   },
   "outputs": [
    {
     "name": "stdout",
     "output_type": "stream",
     "text": [
      "82 - 19 = 63\n"
     ]
    }
   ],
   "source": [
    "def puzzle2():  \n",
    "    array = [];  \n",
    "    for a in range(1, 10):  \n",
    "        for b in range(2, 3):  \n",
    "            for c in range(1, 10):  \n",
    "                for d in range(1,10):  \n",
    "                    if (10*a + b - (10*c + d)) == 63:  \n",
    "                        array=[6, 3, a, b, c, d];  \n",
    "                        if hasRepeat(array) == 1:  \n",
    "                            pass;  \n",
    "                        else:  \n",
    "                            print('{0} - {1} = 63'.format(a*10+b, c*10+d));  \n",
    "                        array=[]; \n",
    "                        \n",
    "puzzle2()                            "
   ]
  },
  {
   "cell_type": "code",
   "execution_count": null,
   "metadata": {
    "collapsed": true
   },
   "outputs": [],
   "source": []
  }
 ],
 "metadata": {
  "kernelspec": {
   "display_name": "Python 3",
   "language": "python",
   "name": "python3"
  },
  "language_info": {
   "codemirror_mode": {
    "name": "ipython",
    "version": 3
   },
   "file_extension": ".py",
   "mimetype": "text/x-python",
   "name": "python",
   "nbconvert_exporter": "python",
   "pygments_lexer": "ipython3",
   "version": "3.5.2"
  }
 },
 "nbformat": 4,
 "nbformat_minor": 0
}
