{
 "cells": [
  {
   "cell_type": "code",
   "execution_count": 1,
   "metadata": {
    "collapsed": false
   },
   "outputs": [
    {
     "name": "stdout",
     "output_type": "stream",
     "text": [
      "['钱祥宝', '郑日伟', '王日珠', '孙夏伟', '王月辉', '郑松天', '王月天', '赵兰华', '王春伟', '孙春辉', '缪日贵', '缪月伟', '赵松福', '孙日伟', '孙日贵', '缪月福', '缪梅辉', '郑松宝', '周日辉', '周松贵', '王月云', '赵松云', '王兰伟', '赵月珠', '孙祥辉', '缪松贵', '王祥贵', '赵祥珠', '吴福', '郑兰云']\n",
      "30\n",
      "{'郑兰云', '孙祥辉', '王月辉', '周日辉', '缪月福', '王兰伟', '缪梅辉', '钱祥宝', '吴福', '赵兰华', '郑松天', '缪松贵', '赵月珠', '周松贵', '孙夏伟', '赵松福', '缪日贵', '王春伟', '赵祥珠', '孙日伟', '王祥贵', '孙日贵', '郑松宝', '郑日伟', '赵松云', '王月天', '王日珠', '缪月伟', '王月云', '孙春辉'}\n",
      "30\n"
     ]
    }
   ],
   "source": [
    "#第50节 复式统计表\n",
    "\n",
    "\n",
    "#生成30个人名\n",
    "def tmp():  \n",
    "    import random;  \n",
    "    #构建姓名集  \n",
    "    familyName = ['赵', '钱', '孙', '李', '周', '吴', '郑', '王', '缪', '孔'];  \n",
    "    middleName = ['', '梅', '兰', '清', '春', '夏', '松', '祥', '日', '月'];  \n",
    "    lastName = ['华', '光', '辉', '宝', '珠', '福', '贵', '天', '伟', '云'];  \n",
    "    nameArray = [];  \n",
    "  \n",
    "    name = '';  \n",
    "    size = 30;  \n",
    "  \n",
    "    for i in range(size):  \n",
    "        name = '';  \n",
    "        name += familyName[random.randrange(0, len(familyName))];  \n",
    "        name += middleName[random.randrange(0, len(middleName))];  \n",
    "        name += lastName[random.randrange(0, len(lastName))];  \n",
    "        nameArray.append(name);  \n",
    "    print(nameArray);  \n",
    "    print(len(nameArray));  \n",
    "  \n",
    "    setA = set(nameArray);  \n",
    "    print(setA);  \n",
    "    print(len(setA));   \n",
    "      \n",
    "    return;  \n",
    "\n",
    "tmp()"
   ]
  },
  {
   "cell_type": "code",
   "execution_count": 2,
   "metadata": {
    "collapsed": false
   },
   "outputs": [
    {
     "name": "stdout",
     "output_type": "stream",
     "text": [
      "[7, 1, 2, 4, 6, 10]\n"
     ]
    }
   ],
   "source": [
    "#生成两组计数  \n",
    "def tmp2():  \n",
    "    import random;  \n",
    "  \n",
    "    count = [];  \n",
    "      \n",
    "    for i in range(5):  \n",
    "        count.append(random.randrange(1, 8));  \n",
    "  \n",
    "    count.append(30- sum(count));  \n",
    "    print(count);  \n",
    "    \n",
    "tmp2()    "
   ]
  },
  {
   "cell_type": "code",
   "execution_count": 3,
   "metadata": {
    "collapsed": false
   },
   "outputs": [
    {
     "name": "stdout",
     "output_type": "stream",
     "text": [
      "['吴清珠', '孔夏伟']\n"
     ]
    }
   ],
   "source": [
    "#从总集中选择样本  \n",
    "def tmp3():  \n",
    "    import random;  \n",
    "    a = ['周福', '孔夏伟', '吴福', '吴清珠', '缪夏宝'];  \n",
    "    b = random.sample(a, 2);  \n",
    "    print(b);\n",
    "    \n",
    "tmp3()    "
   ]
  },
  {
   "cell_type": "code",
   "execution_count": 4,
   "metadata": {
    "collapsed": false
   },
   "outputs": [
    {
     "name": "stdout",
     "output_type": "stream",
     "text": [
      "2 4 3 1 \n",
      "\n",
      "2 3 4 0 "
     ]
    }
   ],
   "source": [
    "def tmp():  \n",
    "    score = ['优', '良', '及格', '不及格'];  \n",
    "    boy = ['良', '优', '及格', '良', '不及格', '及格', '优', '良', '及格', '良'];  \n",
    "    girl = ['良', '及格', '优', '良', '及格', '及格', '良', '及格', '优'];  \n",
    "  \n",
    "    for i in range(len(score)):  \n",
    "        print(boy.count(score[i]), end = ' ');  \n",
    "  \n",
    "    print('\\n');  \n",
    "  \n",
    "    for i in range(len(score)):  \n",
    "        print(girl.count(score[i]), end = ' ');\n",
    "        \n",
    "tmp()"
   ]
  },
  {
   "cell_type": "code",
   "execution_count": null,
   "metadata": {
    "collapsed": true
   },
   "outputs": [],
   "source": []
  }
 ],
 "metadata": {
  "kernelspec": {
   "display_name": "Python 3",
   "language": "python",
   "name": "python3"
  },
  "language_info": {
   "codemirror_mode": {
    "name": "ipython",
    "version": 3
   },
   "file_extension": ".py",
   "mimetype": "text/x-python",
   "name": "python",
   "nbconvert_exporter": "python",
   "pygments_lexer": "ipython3",
   "version": "3.5.2"
  }
 },
 "nbformat": 4,
 "nbformat_minor": 0
}
