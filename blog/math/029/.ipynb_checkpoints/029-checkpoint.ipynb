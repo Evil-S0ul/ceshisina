{
 "cells": [
  {
   "cell_type": "code",
   "execution_count": 1,
   "metadata": {
    "collapsed": false
   },
   "outputs": [
    {
     "name": "stdout",
     "output_type": "stream",
     "text": [
      "6 ÷ 3 = 2\n",
      "28 ÷ 4 = 7\n",
      "20 ÷ 5 = 4\n",
      "12 ÷ 3 = 4\n"
     ]
    }
   ],
   "source": [
    "#第29节 表内除法（一）\n",
    "\n",
    "def tmp2():  \n",
    "    op =['+','-','*','//'];  \n",
    "    quest=[[6,3,2],[28,4,7],[20,5,4],[12,3,4]];  \n",
    "    size = len(quest);  \n",
    "    s='';  \n",
    "    for i in range(size):  \n",
    "        for j in range(len(op)):  \n",
    "            s = '';  \n",
    "            s += str(quest[i][0]);  \n",
    "            s += op[j];  \n",
    "            s += str(quest[i][1]);  \n",
    "            if (int(eval(s)) == quest[i][2]):  \n",
    "                s = s.replace('*',' × ');  \n",
    "                s = s.replace('//', ' ÷ ');  \n",
    "                print('{0} = {1}'.format(s, quest[i][2]));  \n",
    "    return\n",
    "\n",
    "tmp2()"
   ]
  },
  {
   "cell_type": "code",
   "execution_count": 2,
   "metadata": {
    "collapsed": true
   },
   "outputs": [],
   "source": [
    "#数字的中文写法                  \n",
    "def numToChinese(num, s):  \n",
    "    chineseOfNumber=['零','一', '二', '三', '四', '五', '六','七', '八', '九', '十','百','千','万','亿'];  \n",
    "    bit = 0;  \n",
    "    tmp = num;  \n",
    "    while (tmp > 0):  \n",
    "        tmp = tmp//10;  \n",
    "        bit+=1;  \n",
    "    tmp = num;  \n",
    "    while (tmp > 0):  \n",
    "        if (tmp < 10):  \n",
    "            s += chineseOfNumber[tmp];  \n",
    "            tmp -= 10;  \n",
    "        elif (tmp < 100):  \n",
    "            s += chineseOfNumber[tmp//10];  \n",
    "            s += '十';  \n",
    "            tmp = tmp%10;   \n",
    "        elif (tmp < 1000):  \n",
    "            s += chineseOfNumber[tmp//100];  \n",
    "            s += '百';  \n",
    "            tmp = tmp%100;  \n",
    "            if tmp < 10 and tmp > 0:  \n",
    "                s += '零';  \n",
    "        elif (tmp < 10000):  \n",
    "            s += chineseOfNumber[tmp//1000];  \n",
    "            s += '千';  \n",
    "            tmp = tmp%1000;  \n",
    "            if tmp < 100 and tmp > 0:  \n",
    "                s += '零';  \n",
    "        elif (tmp < 100000000):  \n",
    "            s1 = '';  \n",
    "            s += numToChinese(tmp//10000, s1);  \n",
    "            s += '万';  \n",
    "            tmp =tmp%10000;  \n",
    "            if tmp < 1000 and tmp > 0:  \n",
    "                s += '零';  \n",
    "        elif (tmp >= 100000000):  \n",
    "            s1 = '';  \n",
    "            s += numToChinese(tmp//100000000, s1);  \n",
    "            s += '亿';  \n",
    "            tmp = tmp%100000000;  \n",
    "            if tmp < 10000000 and tmp > 0:  \n",
    "                s += '零';  \n",
    "        else:  \n",
    "            pass;  \n",
    "    return s;\n",
    "\n"
   ]
  },
  {
   "cell_type": "code",
   "execution_count": 3,
   "metadata": {
    "collapsed": false
   },
   "outputs": [
    {
     "name": "stdout",
     "output_type": "stream",
     "text": [
      "一一得一 \n",
      "\n",
      "二二得四 \n",
      "\n",
      "三三得九 \n",
      "\n",
      "四四一十六 \n",
      "\n",
      "五五二十五 \n",
      "\n",
      "六六三十六 \n",
      "\n",
      "七七四十九 \n",
      "\n",
      "八八六十四 \n",
      "\n",
      "九九八十一 \n",
      "\n"
     ]
    }
   ],
   "source": [
    "def tmp():  \n",
    "      \n",
    "    for j in range(1, 10):  \n",
    "        for i in range(1, 10):  \n",
    "            if (i == j):  \n",
    "                result = i * j;  \n",
    "                if (result < 10):  \n",
    "                    s = '' + numToChinese(i, '')+numToChinese(j, '')+'得'+numToChinese(result, '');  \n",
    "                    print(s, end=' ');  \n",
    "                else:  \n",
    "                    s = '' + numToChinese(i, '')+numToChinese(j, '')+numToChinese(result, '')  \n",
    "                    print(s, end=' ');  \n",
    "        print('\\n');  \n",
    "    return\n",
    "\n",
    "tmp()"
   ]
  },
  {
   "cell_type": "code",
   "execution_count": 5,
   "metadata": {
    "collapsed": false
   },
   "outputs": [
    {
     "name": "stdout",
     "output_type": "stream",
     "text": [
      "5 × 3 = 15\n",
      "24 ÷ 4 = 6\n",
      "25 ÷ 5 = 5\n",
      "30 ÷ 6 = 5\n",
      "12 ÷ 2 = 6\n",
      "18 ÷ 3 = 6\n",
      "20 ÷ 4 = 5\n"
     ]
    }
   ],
   "source": [
    "def tmp():  \n",
    "    quest = [[5, 3, 'q'], [4, 'q', 24], ['q', 5, 25],  [6, 'q',30],['q',2,12],[3,'q',18],['q',4,20]];  \n",
    "    size = len(quest);  \n",
    "  \n",
    "    for i in range(size):  \n",
    "        if quest[i][0] == 'q':  \n",
    "            print('{0} ÷ {1} = {2}'.format(quest[i][2], quest[i][1], quest[i][2]//quest[i][1]));  \n",
    "        elif quest[i][1] == 'q':  \n",
    "             print('{0} ÷ {1} = {2}'.format(quest[i][2], quest[i][0], quest[i][2]//quest[i][0]));  \n",
    "        elif quest[i][2] == 'q':  \n",
    "             print('{0} × {1} = {2}'.format(quest[i][0], quest[i][1], quest[i][0]*quest[i][1]));  \n",
    "        else:  \n",
    "            pass;  \n",
    "    return\n",
    "\n",
    "tmp()"
   ]
  },
  {
   "cell_type": "code",
   "execution_count": 6,
   "metadata": {
    "collapsed": false
   },
   "outputs": [
    {
     "name": "stdout",
     "output_type": "stream",
     "text": [
      "12 ÷ 4 = 3\n",
      "18 ÷ 6 = 3\n",
      "16 ÷ 4 = 4\n",
      "24-6 = 18\n",
      "25+5 = 30\n",
      "6 × 4 = 24\n",
      "20 ÷ 5 = 4\n",
      "3 × 3 = 9\n",
      "15 ÷ 3 = 5\n"
     ]
    }
   ],
   "source": [
    "def tmp2():  \n",
    "    op =['+','-','*','//'];  \n",
    "    quest=[[12,4,3],[18,6,3],[16,4,4],[24,6,18],[25,5,30],[6,4,24],[20,5,4],[3,3,9],[15,3,5]];  \n",
    "    size = len(quest);  \n",
    "    s='';  \n",
    "    for i in range(size):  \n",
    "        for j in range(len(op)):  \n",
    "            s = '';  \n",
    "            s += str(quest[i][0]);  \n",
    "            s += op[j];  \n",
    "            s += str(quest[i][1]);  \n",
    "            if (int(eval(s)) == quest[i][2]):  \n",
    "                s = s.replace('*',' × ');  \n",
    "                s = s.replace('//', ' ÷ ');  \n",
    "                print('{0} = {1}'.format(s, quest[i][2]));  \n",
    "    return\n",
    "\n",
    "tmp2()"
   ]
  },
  {
   "cell_type": "code",
   "execution_count": null,
   "metadata": {
    "collapsed": true
   },
   "outputs": [],
   "source": []
  }
 ],
 "metadata": {
  "kernelspec": {
   "display_name": "Python 3",
   "language": "python",
   "name": "python3"
  },
  "language_info": {
   "codemirror_mode": {
    "name": "ipython",
    "version": 3
   },
   "file_extension": ".py",
   "mimetype": "text/x-python",
   "name": "python",
   "nbconvert_exporter": "python",
   "pygments_lexer": "ipython3",
   "version": "3.5.2"
  }
 },
 "nbformat": 4,
 "nbformat_minor": 0
}
