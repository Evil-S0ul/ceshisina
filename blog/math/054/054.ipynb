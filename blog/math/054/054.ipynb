{
 "cells": [
  {
   "cell_type": "code",
   "execution_count": 3,
   "metadata": {
    "collapsed": false
   },
   "outputs": [],
   "source": [
    "###  \n",
    "# @usage   数字的中文写法   \n",
    "# @author  mw  \n",
    "# @date    2016年01月08日  星期五  12:37:26   \n",
    "# @param  \n",
    "# @return  \n",
    "#  \n",
    "###  \n",
    "def numberToChinese(num, s):  \n",
    "    if (num < 0):  \n",
    "        num = abs(num);  \n",
    "    chineseOfNumber=['零','一', '二', '三', '四', '五', '六', '七', '八', '九', '十','百','千','万','亿'];  \n",
    "    bit = 0;  \n",
    "    tmp = num;  \n",
    "    if (tmp == 0):  \n",
    "        s = chineseOfNumber[0];  \n",
    "    while (tmp > 0):  \n",
    "        tmp = tmp//10;  \n",
    "        bit+=1;  \n",
    "    tmp = num;  \n",
    "    while (tmp > 0):  \n",
    "        if (tmp < 10):  \n",
    "            s += chineseOfNumber[tmp];  \n",
    "            tmp -= 10;  \n",
    "        elif (tmp < 100):  \n",
    "            s += chineseOfNumber[tmp//10];  \n",
    "            s += '十';  \n",
    "            tmp = tmp%10;   \n",
    "        elif (tmp < 1000):  \n",
    "            s += chineseOfNumber[tmp//100];  \n",
    "            s += '百';  \n",
    "            tmp = tmp%100;  \n",
    "            if tmp < 10 and tmp > 0:  \n",
    "                s += '零';  \n",
    "        elif (tmp < 10000):  \n",
    "            s += chineseOfNumber[tmp//1000];  \n",
    "            s += '千';  \n",
    "            tmp = tmp%1000;  \n",
    "            if tmp < 100 and tmp > 0:  \n",
    "                s += '零';  \n",
    "        elif (tmp < 100000000):  \n",
    "            s1 = '';  \n",
    "            s += numberToChinese(tmp//10000, s1);  \n",
    "            s += '万';  \n",
    "            tmp =tmp%10000;  \n",
    "            if tmp < 1000 and tmp > 0:  \n",
    "                s += '零';  \n",
    "        elif (tmp >= 100000000):  \n",
    "            s1 = '';  \n",
    "            s += numberToChinese(tmp//100000000, s1);  \n",
    "            s += '亿';  \n",
    "            tmp = tmp%100000000;  \n",
    "            if tmp < 10000000 and tmp > 0:  \n",
    "                s += '零';  \n",
    "        else:  \n",
    "            pass;  \n",
    "    return s;"
   ]
  },
  {
   "cell_type": "code",
   "execution_count": 4,
   "metadata": {
    "collapsed": false
   },
   "outputs": [
    {
     "name": "stdout",
     "output_type": "stream",
     "text": [
      "三点四五\n",
      "零点八五\n",
      "二点六\n",
      "三十六点六\n",
      "一点二\n",
      "一点五\n"
     ]
    }
   ],
   "source": [
    "#第54节 小数的初步认识\n",
    "\n",
    "###  \n",
    "# @usage   小数的读法  \n",
    "# @author  mw  \n",
    "# @date    2016年01月21日  星期四  09:53:40   \n",
    "# @param  \n",
    "# @return  \n",
    "#  \n",
    "###  \n",
    "def floatNumberRead(num):  \n",
    "    #正负号  \n",
    "    if (num < 0):  \n",
    "        sign = '负';  \n",
    "    else:  \n",
    "        sign = '';  \n",
    "  \n",
    "    #判断是否小数   \n",
    "    sOfNum = str(num);  \n",
    "    index = sOfNum.find('.');  \n",
    "    if (index != -1):  \n",
    "        chineseOfNumber=['零','一', '二', '三', '四', '五', '六','七', '八', '九'];  \n",
    "        sOfNum = sOfNum[index+1:];  \n",
    "        decimalPart = '点';  \n",
    "        for i in range(len(sOfNum)):  \n",
    "            decimalPart += chineseOfNumber[int(sOfNum[i])];  \n",
    "              \n",
    "        import math;  \n",
    "        intPart = numberToChinese(math.floor(abs(num)), '');  \n",
    "  \n",
    "        return sign+intPart+decimalPart;  \n",
    "    else:  \n",
    "        return sign+numberToChinese(num, ''); \n",
    "    \n",
    "if __name__ == '__main__':  \n",
    "    a = [3.45, 0.85,2.60,36.6,1.2,1.5];  \n",
    "    for i in range(len(a)):  \n",
    "        print(floatNumberRead(a[i]));     "
   ]
  },
  {
   "cell_type": "code",
   "execution_count": 5,
   "metadata": {
    "collapsed": false
   },
   "outputs": [
    {
     "name": "stdout",
     "output_type": "stream",
     "text": [
      "三点五\n",
      "五点二五\n",
      "二点七五\n",
      "一点五\n",
      "五点八\n"
     ]
    }
   ],
   "source": [
    "if __name__ == '__main__':  \n",
    "    a = [3.5,5.25,2.75,1.5,5.8];  \n",
    "    for i in range(len(a)):  \n",
    "        print(floatNumberRead(a[i]))"
   ]
  },
  {
   "cell_type": "code",
   "execution_count": 7,
   "metadata": {
    "collapsed": false
   },
   "outputs": [
    {
     "name": "stdout",
     "output_type": "stream",
     "text": [
      "大于1的两位小数有[50.76, 50.67, 57.06, 56.07, 5.76, 5.67, 7.56, 7.65, 6.57, 6.75, 75.06, 70.56, 70.65, 76.05, 65.07, 60.57, 60.75, 67.05], 共计18个。\n",
      "大于7的两位小数有[50.76, 50.67, 57.06, 56.07, 7.56, 7.65, 75.06, 70.56, 70.65, 76.05, 65.07, 60.57, 60.75, 67.05], 共计14个。\n"
     ]
    }
   ],
   "source": [
    "#全排列  \n",
    "def perm(array):  \n",
    "    if (len(array)<=1):  \n",
    "        return [array];  \n",
    "  \n",
    "    r = [];  \n",
    "    for i in range(len(array)):  \n",
    "        #抽去array[i]  \n",
    "        s = array[:i]+array[i+1:];  \n",
    "        p = perm(s);  \n",
    "        for x in p:  \n",
    "            #array[i]置顶  \n",
    "            r.append(array[i:i+1]+x);  \n",
    "    return r;  \n",
    "  \n",
    "def tmp():  \n",
    "    a = [5, 0, 7, 6];  \n",
    "  \n",
    "    #选择集  \n",
    "    b = perm(a);  \n",
    "    #结果集  \n",
    "    result = [];  \n",
    "    result2 = [];  \n",
    "  \n",
    "    import math;  \n",
    "    for i in range(len(b)):  \n",
    "        sum = round(b[i][0] * 10 + b[i][1] * 1 +b[i][2] * 0.1 + b[i][3] * 0.01, 2);  \n",
    "        if sum > 1 and b[i][3] != 0:  \n",
    "            result.append(sum);  \n",
    "  \n",
    "        if sum > 7 and b[i][3] != 0:  \n",
    "            result2.append(sum);  \n",
    "  \n",
    "    print('大于1的两位小数有{0}, 共计{1}个。'.format(result, len(result)));  \n",
    "    print('大于7的两位小数有{0}, 共计{1}个。'.format(result2, len(result2)));\n",
    "    \n",
    "tmp()    "
   ]
  },
  {
   "cell_type": "code",
   "execution_count": null,
   "metadata": {
    "collapsed": true
   },
   "outputs": [],
   "source": []
  }
 ],
 "metadata": {
  "kernelspec": {
   "display_name": "Python 3",
   "language": "python",
   "name": "python3"
  },
  "language_info": {
   "codemirror_mode": {
    "name": "ipython",
    "version": 3
   },
   "file_extension": ".py",
   "mimetype": "text/x-python",
   "name": "python",
   "nbconvert_exporter": "python",
   "pygments_lexer": "ipython3",
   "version": "3.5.2"
  }
 },
 "nbformat": 4,
 "nbformat_minor": 0
}
