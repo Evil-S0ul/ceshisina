{
 "cells": [
  {
   "cell_type": "code",
   "execution_count": 1,
   "metadata": {
    "collapsed": true
   },
   "outputs": [],
   "source": [
    "#第06节 6~10的认识和加减法\n",
    "def calc():  \n",
    "    fin = open('input.txt');  \n",
    "    fout= open('output.txt', 'a');  \n",
    "    for line in fin.readlines():  \n",
    "        if line[-1] == '\\n':  \n",
    "            line = line[:-1];  \n",
    "        if line == '':  \n",
    "            continue;  \n",
    "        elif line.startswith('#'):  \n",
    "            print(line);  \n",
    "            fout.write(line+'\\n');  \n",
    "        else:  \n",
    "            s = '{0} = {1}'.format(line, eval(line));  \n",
    "            print(s);  \n",
    "            fout.write(s + '\\n');  \n",
    "    fout.close();  \n",
    "    fin.close();"
   ]
  },
  {
   "cell_type": "code",
   "execution_count": 2,
   "metadata": {
    "collapsed": false
   },
   "outputs": [
    {
     "name": "stdout",
     "output_type": "stream",
     "text": [
      "#计算\n",
      "4 + 3 - 2  = 5\n",
      "4 - 2 + 3 = 5\n"
     ]
    }
   ],
   "source": [
    "calc()"
   ]
  },
  {
   "cell_type": "code",
   "execution_count": 5,
   "metadata": {
    "collapsed": false
   },
   "outputs": [
    {
     "name": "stdout",
     "output_type": "stream",
     "text": [
      "#璁＄畻\n",
      "4 + 3 - 2  = 5\n",
      "4 - 2 + 3 = 5\n",
      "2 + 3 + 4   = 9\n",
      "9 - 6 + 3   = 6\n",
      "8 - 2 - 2   = 4\n",
      "9 + 1 - 5   = 5\n",
      "4 + 5 - 7   = 2\n",
      "3 + 7 - 2 = 8\n"
     ]
    }
   ],
   "source": [
    "calc()"
   ]
  },
  {
   "cell_type": "code",
   "execution_count": 6,
   "metadata": {
    "collapsed": false
   },
   "outputs": [
    {
     "name": "stdout",
     "output_type": "stream",
     "text": [
      "#\n",
      "4 + 3 - 2  = 5\n",
      "4 - 2 + 3 = 5\n",
      "2 + 3 + 4   = 9\n",
      "9 - 6 + 3   = 6\n",
      "8 - 2 - 2   = 4\n",
      "9 + 1 - 5   = 5\n",
      "4 + 5 - 7   = 2\n",
      "3 + 7 - 2 = 8\n",
      "#3 \n",
      "1+4+5    = 10\n",
      "10-4-4    = 2\n",
      "2+7+0   = 9\n",
      "7-6+5   = 6\n",
      "8-1-3  = 4\n",
      "2+6-7    = 1\n",
      "#4 \n",
      "2+1+5  = 8\n",
      "3+1+4  = 8\n",
      "1+6+3   = 10\n",
      "4+2+2  = 8\n",
      "3+1+5  = 9\n",
      "1+4+3  = 8\n",
      "6+2+1  = 9\n",
      "3+2+5   = 10\n",
      "#5 \n",
      "5+3-2+4-5+3    = 8\n",
      "8-6+2+5-3-4   = 2\n",
      "#6 \n",
      "10-6    = 4\n",
      "10-7    = 3\n",
      "10-9    = 1\n",
      "10-8    = 2\n",
      "10-5    = 5\n",
      "10-10 = 0\n"
     ]
    }
   ],
   "source": [
    "calc()"
   ]
  },
  {
   "cell_type": "code",
   "execution_count": 7,
   "metadata": {
    "collapsed": true
   },
   "outputs": [],
   "source": [
    "def review():  \n",
    "    for i in range(11):  \n",
    "        for j in range(0, i+1):  \n",
    "            print('{0} + {1} = {2}'.format(i-j, j, i), end=', ');  \n",
    "        print('\\n');"
   ]
  },
  {
   "cell_type": "code",
   "execution_count": 8,
   "metadata": {
    "collapsed": false
   },
   "outputs": [
    {
     "name": "stdout",
     "output_type": "stream",
     "text": [
      "0 + 0 = 0, \n",
      "\n",
      "1 + 0 = 1, 0 + 1 = 1, \n",
      "\n",
      "2 + 0 = 2, 1 + 1 = 2, 0 + 2 = 2, \n",
      "\n",
      "3 + 0 = 3, 2 + 1 = 3, 1 + 2 = 3, 0 + 3 = 3, \n",
      "\n",
      "4 + 0 = 4, 3 + 1 = 4, 2 + 2 = 4, 1 + 3 = 4, 0 + 4 = 4, \n",
      "\n",
      "5 + 0 = 5, 4 + 1 = 5, 3 + 2 = 5, 2 + 3 = 5, 1 + 4 = 5, 0 + 5 = 5, \n",
      "\n",
      "6 + 0 = 6, 5 + 1 = 6, 4 + 2 = 6, 3 + 3 = 6, 2 + 4 = 6, 1 + 5 = 6, 0 + 6 = 6, \n",
      "\n",
      "7 + 0 = 7, 6 + 1 = 7, 5 + 2 = 7, 4 + 3 = 7, 3 + 4 = 7, 2 + 5 = 7, 1 + 6 = 7, 0 + 7 = 7, \n",
      "\n",
      "8 + 0 = 8, 7 + 1 = 8, 6 + 2 = 8, 5 + 3 = 8, 4 + 4 = 8, 3 + 5 = 8, 2 + 6 = 8, 1 + 7 = 8, 0 + 8 = 8, \n",
      "\n",
      "9 + 0 = 9, 8 + 1 = 9, 7 + 2 = 9, 6 + 3 = 9, 5 + 4 = 9, 4 + 5 = 9, 3 + 6 = 9, 2 + 7 = 9, 1 + 8 = 9, 0 + 9 = 9, \n",
      "\n",
      "10 + 0 = 10, 9 + 1 = 10, 8 + 2 = 10, 7 + 3 = 10, 6 + 4 = 10, 5 + 5 = 10, 4 + 6 = 10, 3 + 7 = 10, 2 + 8 = 10, 1 + 9 = 10, 0 + 10 = 10, \n",
      "\n"
     ]
    }
   ],
   "source": [
    "review()"
   ]
  },
  {
   "cell_type": "code",
   "execution_count": 9,
   "metadata": {
    "collapsed": true
   },
   "outputs": [],
   "source": [
    "def quest():  \n",
    "    for i in range(3):  \n",
    "        print(4 + 2 *(i+1), end=', ');  \n",
    "    print('\\n');  \n",
    "    for i in range(3):  \n",
    "        print(7- 2 *(i+1), end=', ');"
   ]
  },
  {
   "cell_type": "code",
   "execution_count": 10,
   "metadata": {
    "collapsed": false
   },
   "outputs": [
    {
     "name": "stdout",
     "output_type": "stream",
     "text": [
      "6, 8, 10, \n",
      "\n",
      "5, 3, 1, "
     ]
    }
   ],
   "source": [
    "quest()"
   ]
  },
  {
   "cell_type": "code",
   "execution_count": null,
   "metadata": {
    "collapsed": true
   },
   "outputs": [],
   "source": []
  }
 ],
 "metadata": {
  "kernelspec": {
   "display_name": "Python 3",
   "language": "python",
   "name": "python3"
  },
  "language_info": {
   "codemirror_mode": {
    "name": "ipython",
    "version": 3
   },
   "file_extension": ".py",
   "mimetype": "text/x-python",
   "name": "python",
   "nbconvert_exporter": "python",
   "pygments_lexer": "ipython3",
   "version": "3.5.2"
  }
 },
 "nbformat": 4,
 "nbformat_minor": 0
}
