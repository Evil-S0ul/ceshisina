{
 "cells": [
  {
   "cell_type": "code",
   "execution_count": 5,
   "metadata": {
    "collapsed": false
   },
   "outputs": [
    {
     "name": "stdout",
     "output_type": "stream",
     "text": [
      "1/4\n",
      "1/3\n"
     ]
    }
   ],
   "source": [
    "from fractions import *\n",
    "\n",
    "def fractionCalc():  \n",
    "    a = Fraction(1, 4);  \n",
    "    print(a);  \n",
    "    b = Fraction(1, 3);  \n",
    "    print(b);\n",
    "    \n",
    "fractionCalc()"
   ]
  },
  {
   "cell_type": "code",
   "execution_count": 6,
   "metadata": {
    "collapsed": false
   },
   "outputs": [
    {
     "name": "stdout",
     "output_type": "stream",
     "text": [
      "1/2\n",
      "1/4\n",
      "1/6\n",
      "1/2 > 1/4\n",
      "1/4 > 1/6\n"
     ]
    }
   ],
   "source": [
    "###  \n",
    "# @usage   分数相关的运算  \n",
    "###  \n",
    "def fractionCalc():  \n",
    "    array = [[1,2],[1,4], [1, 6]];  \n",
    "    fraction = [];  \n",
    "    for i in range(len(array)):  \n",
    "        fraction.append(Fraction(array[i][0], array[i][1]));  \n",
    "  \n",
    "    for i in range(len(fraction)):  \n",
    "        print(fraction[i]);  \n",
    "  \n",
    "    for i in range(len(fraction)-1):  \n",
    "        a = fraction[i];  \n",
    "        b = fraction[i+1];  \n",
    "          \n",
    "        if (a > b):  \n",
    "            print('{0} > {1}'.format(a, b));  \n",
    "        elif (a < b):  \n",
    "            print('{0} < {1}'.format(a, b));  \n",
    "        else:  \n",
    "            print('{0} = {1}'.format(a, b));  \n",
    "    return;\n",
    "\n",
    "fractionCalc()"
   ]
  },
  {
   "cell_type": "code",
   "execution_count": 8,
   "metadata": {
    "collapsed": false
   },
   "outputs": [
    {
     "name": "stdout",
     "output_type": "stream",
     "text": [
      "1/2+1/2 = Fraction('1/2')+Fraction('1/2') = 1, \n",
      "\n",
      "4/5-2/5 = Fraction('4/5')-Fraction('2/5') = 2/5, \n",
      "\n",
      "1-7/9 = Fraction('1')-Fraction('7/9') = 2/9, \n",
      "\n",
      "1/7+2/7 = Fraction('1/7')+Fraction('2/7') = 3/7, \n",
      "\n",
      "1-1/2 = Fraction('1')-Fraction('1/2') = 1/2, \n",
      "\n",
      "3/5+1/5 = Fraction('3/5')+Fraction('1/5') = 4/5, \n",
      "\n"
     ]
    }
   ],
   "source": [
    "###  \n",
    "# @usage   分数相关的运算  \n",
    "###  \n",
    "import re\n",
    "def fractionCalc():  \n",
    "    fin = open('input.txt');  \n",
    "    fout= open('output.txt', 'a');  \n",
    "    for line in fin.readlines():  \n",
    "        if line[-1] == '\\n':  \n",
    "            line = line[:-1];       \n",
    "              \n",
    "        if line == '':  \n",
    "            continue;  \n",
    "        elif line.startswith('#'):  \n",
    "            print(line);  \n",
    "            fout.write(line+'\\n');  \n",
    "        else:  \n",
    "            lines = line.split(sep=' ');  \n",
    "            for i in range(len(lines)):  \n",
    "                if lines[i]=='':  \n",
    "                    continue;  \n",
    "                  \n",
    "                expression = lines[i];  \n",
    "                ops = [];  \n",
    "                length = len(expression);  \n",
    "  \n",
    "                for j in range(length):  \n",
    "                    if expression[j] == '+' or expression[j] == '-':  \n",
    "                        ops.append(expression[j]);  \n",
    "                    else:  \n",
    "                        pass;  \n",
    "  \n",
    "                operands = re.split(r'[+-]{1}', expression);  \n",
    "                operandString = [];  \n",
    "                length = len(operands);  \n",
    "                #数字如1/7要转化成Fraction('1/7')这种样式才可以算出正确结果，引号不可以少掉。  \n",
    "                for j in range(length):  \n",
    "                    operandString.append('Fraction(\\''+operands[j]+'\\')');  \n",
    "  \n",
    "                expression ='';  \n",
    "  \n",
    "                length = len(operandString)-1;  \n",
    "  \n",
    "                for j in range(length):  \n",
    "                    expression+=operandString[j]+ops[j];  \n",
    "                expression+=operandString[-1];    \n",
    "  \n",
    "                s = '{0} = {1} = {2}'.format(lines[i],expression, eval(expression));  \n",
    "                print(s, end=', ');  \n",
    "                fout.write(s + ', ');  \n",
    "            print('\\n');  \n",
    "            fout.write('\\n');  \n",
    "    fout.close();  \n",
    "    fin.close();\n",
    "    \n",
    "fractionCalc()"
   ]
  },
  {
   "cell_type": "code",
   "execution_count": null,
   "metadata": {
    "collapsed": true
   },
   "outputs": [],
   "source": []
  }
 ],
 "metadata": {
  "kernelspec": {
   "display_name": "Python 3",
   "language": "python",
   "name": "python3"
  },
  "language_info": {
   "codemirror_mode": {
    "name": "ipython",
    "version": 3
   },
   "file_extension": ".py",
   "mimetype": "text/x-python",
   "name": "python",
   "nbconvert_exporter": "python",
   "pygments_lexer": "ipython3",
   "version": "3.5.2"
  }
 },
 "nbformat": 4,
 "nbformat_minor": 0
}
