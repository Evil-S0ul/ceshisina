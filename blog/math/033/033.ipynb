{
 "cells": [
  {
   "cell_type": "code",
   "execution_count": 6,
   "metadata": {
    "collapsed": true
   },
   "outputs": [],
   "source": [
    "#第33节 有余数的除法\n",
    "\n",
    "###  \n",
    "# @usage   带余数的除法  \n",
    "# @author  mw  \n",
    "# @date    2016年01月06日  星期三  10:55:08   \n",
    "# @param  \n",
    "# @return  \n",
    "#  \n",
    "###  \n",
    "def divWithRemainder(a, b):  \n",
    "    result = divmod(a, b);  \n",
    "    print('{0} ÷ {1} = {2} •••• {3}'.format(a, b, result[0], result[1]));  \n",
    "    return\n",
    "\n"
   ]
  },
  {
   "cell_type": "code",
   "execution_count": 7,
   "metadata": {
    "collapsed": false
   },
   "outputs": [
    {
     "name": "stdout",
     "output_type": "stream",
     "text": [
      "7 ÷ 3 = 2 •••• 1\n"
     ]
    }
   ],
   "source": [
    "divWithRemainder(7,3)"
   ]
  },
  {
   "cell_type": "code",
   "execution_count": null,
   "metadata": {
    "collapsed": true
   },
   "outputs": [],
   "source": []
  }
 ],
 "metadata": {
  "kernelspec": {
   "display_name": "Python 3",
   "language": "python",
   "name": "python3"
  },
  "language_info": {
   "codemirror_mode": {
    "name": "ipython",
    "version": 3
   },
   "file_extension": ".py",
   "mimetype": "text/x-python",
   "name": "python",
   "nbconvert_exporter": "python",
   "pygments_lexer": "ipython3",
   "version": "3.5.2"
  }
 },
 "nbformat": 4,
 "nbformat_minor": 0
}
