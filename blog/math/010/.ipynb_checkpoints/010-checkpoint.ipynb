{
 "cells": [
  {
   "cell_type": "code",
   "execution_count": 1,
   "metadata": {
    "collapsed": true
   },
   "outputs": [],
   "source": [
    "#第10节 总复习\n",
    "\n",
    "#对角线上的数字是相同的\n",
    "def digitTable():      \n",
    "    for row in range(1, 11):  \n",
    "        for col in range(1, 11):  \n",
    "            print('{0:{width}}'.format(row + col - 1, width=3), end=' ');  \n",
    "        print('\\n');  \n",
    "    return;"
   ]
  },
  {
   "cell_type": "code",
   "execution_count": 2,
   "metadata": {
    "collapsed": false
   },
   "outputs": [
    {
     "name": "stdout",
     "output_type": "stream",
     "text": [
      "  1   2   3   4   5   6   7   8   9  10 \n",
      "\n",
      "  2   3   4   5   6   7   8   9  10  11 \n",
      "\n",
      "  3   4   5   6   7   8   9  10  11  12 \n",
      "\n",
      "  4   5   6   7   8   9  10  11  12  13 \n",
      "\n",
      "  5   6   7   8   9  10  11  12  13  14 \n",
      "\n",
      "  6   7   8   9  10  11  12  13  14  15 \n",
      "\n",
      "  7   8   9  10  11  12  13  14  15  16 \n",
      "\n",
      "  8   9  10  11  12  13  14  15  16  17 \n",
      "\n",
      "  9  10  11  12  13  14  15  16  17  18 \n",
      "\n",
      " 10  11  12  13  14  15  16  17  18  19 \n",
      "\n"
     ]
    }
   ],
   "source": [
    "digitTable()"
   ]
  },
  {
   "cell_type": "code",
   "execution_count": 6,
   "metadata": {
    "collapsed": false
   },
   "outputs": [
    {
     "name": "stdout",
     "output_type": "stream",
     "text": [
      " 1 +  1 =  2| 1 +  2 =  3| 1 +  3 =  4| 1 +  4 =  5| 1 +  5 =  6| 1 +  6 =  7| 1 +  7 =  8| 1 +  8 =  9| 1 +  9 = 10| 1 + 10 = 11|\n",
      "\n",
      " 2 +  1 =  3| 2 +  2 =  4| 2 +  3 =  5| 2 +  4 =  6| 2 +  5 =  7| 2 +  6 =  8| 2 +  7 =  9| 2 +  8 = 10| 2 +  9 = 11| 2 + 10 = 12|\n",
      "\n",
      " 3 +  1 =  4| 3 +  2 =  5| 3 +  3 =  6| 3 +  4 =  7| 3 +  5 =  8| 3 +  6 =  9| 3 +  7 = 10| 3 +  8 = 11| 3 +  9 = 12| 3 + 10 = 13|\n",
      "\n",
      " 4 +  1 =  5| 4 +  2 =  6| 4 +  3 =  7| 4 +  4 =  8| 4 +  5 =  9| 4 +  6 = 10| 4 +  7 = 11| 4 +  8 = 12| 4 +  9 = 13| 4 + 10 = 14|\n",
      "\n",
      " 5 +  1 =  6| 5 +  2 =  7| 5 +  3 =  8| 5 +  4 =  9| 5 +  5 = 10| 5 +  6 = 11| 5 +  7 = 12| 5 +  8 = 13| 5 +  9 = 14| 5 + 10 = 15|\n",
      "\n",
      " 6 +  1 =  7| 6 +  2 =  8| 6 +  3 =  9| 6 +  4 = 10| 6 +  5 = 11| 6 +  6 = 12| 6 +  7 = 13| 6 +  8 = 14| 6 +  9 = 15| 6 + 10 = 16|\n",
      "\n",
      " 7 +  1 =  8| 7 +  2 =  9| 7 +  3 = 10| 7 +  4 = 11| 7 +  5 = 12| 7 +  6 = 13| 7 +  7 = 14| 7 +  8 = 15| 7 +  9 = 16| 7 + 10 = 17|\n",
      "\n",
      " 8 +  1 =  9| 8 +  2 = 10| 8 +  3 = 11| 8 +  4 = 12| 8 +  5 = 13| 8 +  6 = 14| 8 +  7 = 15| 8 +  8 = 16| 8 +  9 = 17| 8 + 10 = 18|\n",
      "\n",
      " 9 +  1 = 10| 9 +  2 = 11| 9 +  3 = 12| 9 +  4 = 13| 9 +  5 = 14| 9 +  6 = 15| 9 +  7 = 16| 9 +  8 = 17| 9 +  9 = 18| 9 + 10 = 19|\n",
      "\n",
      "10 +  1 = 11|10 +  2 = 12|10 +  3 = 13|10 +  4 = 14|10 +  5 = 15|10 +  6 = 16|10 +  7 = 17|10 +  8 = 18|10 +  9 = 19|10 + 10 = 20|\n",
      "\n"
     ]
    }
   ],
   "source": [
    "def addExpr():  \n",
    "    for num1 in range(1,11):  \n",
    "        for num2 in range(1, 11):  \n",
    "            print('{0:{width}} + {1:{width}} = {2:{width}}'.format(  \n",
    "                num1, num2, num1+num2, width=2), end='|');  \n",
    "        print('\\n');  \n",
    "    return;\n",
    "addExpr()"
   ]
  },
  {
   "cell_type": "code",
   "execution_count": null,
   "metadata": {
    "collapsed": true
   },
   "outputs": [],
   "source": []
  }
 ],
 "metadata": {
  "kernelspec": {
   "display_name": "Python 3",
   "language": "python",
   "name": "python3"
  },
  "language_info": {
   "codemirror_mode": {
    "name": "ipython",
    "version": 3
   },
   "file_extension": ".py",
   "mimetype": "text/x-python",
   "name": "python",
   "nbconvert_exporter": "python",
   "pygments_lexer": "ipython3",
   "version": "3.5.2"
  }
 },
 "nbformat": 4,
 "nbformat_minor": 0
}
