{
 "cells": [
  {
   "cell_type": "code",
   "execution_count": 2,
   "metadata": {
    "collapsed": false
   },
   "outputs": [],
   "source": [
    "def compare(a, b):  \n",
    "    if (a > b):  \n",
    "        s = str(a) + ' > ' + str(b)  \n",
    "        print(s)\n",
    "        print('{0:d} {1:2s} {2:d}'.format(a, '大于', b))\n",
    "    elif (a < b):  \n",
    "        s = str(a) + ' < ' + str(b)\n",
    "        print(s)\n",
    "        print('{0:d} {1:2s} {2:d}'.format(a, '小于', b))\n",
    "    else:  \n",
    "        s = str(a) + ' = ' + str(b)\n",
    "        print(s)\n",
    "        print('{0:d} {1:2s} {2:d}'.format(a, '等于', b))"
   ]
  },
  {
   "cell_type": "code",
   "execution_count": 3,
   "metadata": {
    "collapsed": false
   },
   "outputs": [
    {
     "name": "stdout",
     "output_type": "stream",
     "text": [
      "3 = 3\n",
      "3 等于 3\n"
     ]
    }
   ],
   "source": [
    "compare(3, 3)"
   ]
  },
  {
   "cell_type": "code",
   "execution_count": 4,
   "metadata": {
    "collapsed": false
   },
   "outputs": [
    {
     "name": "stdout",
     "output_type": "stream",
     "text": [
      "3 > 2\n",
      "3 大于 2\n"
     ]
    }
   ],
   "source": [
    "compare(3, 2)"
   ]
  },
  {
   "cell_type": "code",
   "execution_count": 5,
   "metadata": {
    "collapsed": false
   },
   "outputs": [
    {
     "name": "stdout",
     "output_type": "stream",
     "text": [
      "3 < 4\n",
      "3 小于 4\n"
     ]
    }
   ],
   "source": [
    "compare(3, 4)"
   ]
  },
  {
   "cell_type": "code",
   "execution_count": 6,
   "metadata": {
    "collapsed": true
   },
   "outputs": [],
   "source": [
    "def quest():  \n",
    "    q = [2,2, 2,3, 5,4, 5,2, 3,5, 4,3, 5,5, 4,1]\n",
    "    l = len(q)\n",
    "    l = l // 2\n",
    "    for i in range(l):  \n",
    "        compare(q[2*i], q[2*i+1])\n",
    "    return"
   ]
  },
  {
   "cell_type": "code",
   "execution_count": 7,
   "metadata": {
    "collapsed": false
   },
   "outputs": [
    {
     "name": "stdout",
     "output_type": "stream",
     "text": [
      "2 = 2\n",
      "2 等于 2\n",
      "2 < 3\n",
      "2 小于 3\n",
      "5 > 4\n",
      "5 大于 4\n",
      "5 > 2\n",
      "5 大于 2\n",
      "3 < 5\n",
      "3 小于 5\n",
      "4 > 3\n",
      "4 大于 3\n",
      "5 = 5\n",
      "5 等于 5\n",
      "4 > 1\n",
      "4 大于 1\n"
     ]
    }
   ],
   "source": [
    "quest()"
   ]
  },
  {
   "cell_type": "code",
   "execution_count": 9,
   "metadata": {
    "collapsed": false
   },
   "outputs": [],
   "source": [
    "def calc():  \n",
    "    fin = open('input.txt') \n",
    "    fout= open('output.txt', 'a')\n",
    "    for line in fin.readlines():  \n",
    "        if line[-1] == '\\n':\n",
    "            line = line[:-1]\n",
    "        if line.startswith('#'):\n",
    "            print(line)\n",
    "            fout.write(line+'\\n')\n",
    "        else:  \n",
    "            s = '{0} = {1}'.format(line, eval(line))\n",
    "            print(s)\n",
    "            fout.write(s + '\\n') \n",
    "    fout.close()\n",
    "    fin.close()"
   ]
  },
  {
   "cell_type": "code",
   "execution_count": 10,
   "metadata": {
    "collapsed": false
   },
   "outputs": [
    {
     "name": "stdout",
     "output_type": "stream",
     "text": [
      "#计算 \n",
      "2+2  = 4\n",
      "4+1  = 5\n",
      "1+2  = 3\n",
      "5-1  = 4\n",
      "4-2  = 2\n",
      "3-2 = 1\n"
     ]
    }
   ],
   "source": [
    "calc()"
   ]
  },
  {
   "cell_type": "code",
   "execution_count": 11,
   "metadata": {
    "collapsed": true
   },
   "outputs": [],
   "source": [
    "def review():  \n",
    "    for i in range(6):  \n",
    "        for j in range(i, 6):  \n",
    "            print('{0} + {1} = {2}'.format(i, j, i+j), end=', ');  \n",
    "        print('\\n');  \n",
    "      \n",
    "    for i in range(6):  \n",
    "        for j in range(i, 6):  \n",
    "            print('{0} - {1} = {2}'.format(j, i, j-i), end=', ');  \n",
    "        print('\\n');  "
   ]
  },
  {
   "cell_type": "code",
   "execution_count": 12,
   "metadata": {
    "collapsed": false
   },
   "outputs": [
    {
     "name": "stdout",
     "output_type": "stream",
     "text": [
      "0 + 0 = 0, 0 + 1 = 1, 0 + 2 = 2, 0 + 3 = 3, 0 + 4 = 4, 0 + 5 = 5, \n",
      "\n",
      "1 + 1 = 2, 1 + 2 = 3, 1 + 3 = 4, 1 + 4 = 5, 1 + 5 = 6, \n",
      "\n",
      "2 + 2 = 4, 2 + 3 = 5, 2 + 4 = 6, 2 + 5 = 7, \n",
      "\n",
      "3 + 3 = 6, 3 + 4 = 7, 3 + 5 = 8, \n",
      "\n",
      "4 + 4 = 8, 4 + 5 = 9, \n",
      "\n",
      "5 + 5 = 10, \n",
      "\n",
      "0 - 0 = 0, 1 - 0 = 1, 2 - 0 = 2, 3 - 0 = 3, 4 - 0 = 4, 5 - 0 = 5, \n",
      "\n",
      "1 - 1 = 0, 2 - 1 = 1, 3 - 1 = 2, 4 - 1 = 3, 5 - 1 = 4, \n",
      "\n",
      "2 - 2 = 0, 3 - 2 = 1, 4 - 2 = 2, 5 - 2 = 3, \n",
      "\n",
      "3 - 3 = 0, 4 - 3 = 1, 5 - 3 = 2, \n",
      "\n",
      "4 - 4 = 0, 5 - 4 = 1, \n",
      "\n",
      "5 - 5 = 0, \n",
      "\n"
     ]
    }
   ],
   "source": [
    "review()"
   ]
  },
  {
   "cell_type": "code",
   "execution_count": 13,
   "metadata": {
    "collapsed": true
   },
   "outputs": [],
   "source": [
    "#004   [从头学数学] 第04节 1~5的认识和加减法"
   ]
  },
  {
   "cell_type": "code",
   "execution_count": null,
   "metadata": {
    "collapsed": true
   },
   "outputs": [],
   "source": []
  }
 ],
 "metadata": {
  "kernelspec": {
   "display_name": "Python 3",
   "language": "python",
   "name": "python3"
  },
  "language_info": {
   "codemirror_mode": {
    "name": "ipython",
    "version": 3
   },
   "file_extension": ".py",
   "mimetype": "text/x-python",
   "name": "python",
   "nbconvert_exporter": "python",
   "pygments_lexer": "ipython3",
   "version": "3.5.2"
  }
 },
 "nbformat": 4,
 "nbformat_minor": 0
}
