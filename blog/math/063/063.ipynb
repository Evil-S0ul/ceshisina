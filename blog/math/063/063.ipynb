{
 "cells": [
  {
   "cell_type": "code",
   "execution_count": 2,
   "metadata": {
    "collapsed": false
   },
   "outputs": [
    {
     "ename": "NameError",
     "evalue": "name 'perm' is not defined",
     "output_type": "error",
     "traceback": [
      "\u001b[0;31m---------------------------------------------------------------------------\u001b[0m",
      "\u001b[0;31mNameError\u001b[0m                                 Traceback (most recent call last)",
      "\u001b[0;32m<ipython-input-2-3860601faf5a>\u001b[0m in \u001b[0;36m<module>\u001b[0;34m()\u001b[0m\n\u001b[1;32m     15\u001b[0m \u001b[1;33m\u001b[0m\u001b[0m\n\u001b[1;32m     16\u001b[0m \u001b[1;33m\u001b[0m\u001b[0m\n\u001b[0;32m---> 17\u001b[0;31m \u001b[0mhorseRacing\u001b[0m\u001b[1;33m(\u001b[0m\u001b[1;33m)\u001b[0m\u001b[1;33m\u001b[0m\u001b[0m\n\u001b[0m",
      "\u001b[0;32m<ipython-input-2-3860601faf5a>\u001b[0m in \u001b[0;36mhorseRacing\u001b[0;34m()\u001b[0m\n\u001b[1;32m      2\u001b[0m \u001b[1;32mdef\u001b[0m \u001b[0mhorseRacing\u001b[0m\u001b[1;33m(\u001b[0m\u001b[1;33m)\u001b[0m\u001b[1;33m:\u001b[0m\u001b[1;33m\u001b[0m\u001b[0m\n\u001b[1;32m      3\u001b[0m     \u001b[0ma\u001b[0m \u001b[1;33m=\u001b[0m \u001b[1;33m[\u001b[0m\u001b[1;34m'上等马'\u001b[0m\u001b[1;33m,\u001b[0m \u001b[1;34m'中等马'\u001b[0m\u001b[1;33m,\u001b[0m \u001b[1;34m'下等马'\u001b[0m\u001b[1;33m]\u001b[0m\u001b[1;33m;\u001b[0m\u001b[1;33m\u001b[0m\u001b[0m\n\u001b[0;32m----> 4\u001b[0;31m     \u001b[0mb\u001b[0m \u001b[1;33m=\u001b[0m \u001b[0mperm\u001b[0m\u001b[1;33m(\u001b[0m\u001b[0ma\u001b[0m\u001b[1;33m)\u001b[0m\u001b[1;33m;\u001b[0m\u001b[1;33m\u001b[0m\u001b[0m\n\u001b[0m\u001b[1;32m      5\u001b[0m     \u001b[0mwin\u001b[0m \u001b[1;33m=\u001b[0m \u001b[1;36m0\u001b[0m\u001b[1;33m;\u001b[0m\u001b[1;33m\u001b[0m\u001b[0m\n\u001b[1;32m      6\u001b[0m     \u001b[1;32mfor\u001b[0m \u001b[0mi\u001b[0m \u001b[1;32min\u001b[0m \u001b[0mrange\u001b[0m\u001b[1;33m(\u001b[0m\u001b[0mlen\u001b[0m\u001b[1;33m(\u001b[0m\u001b[0mb\u001b[0m\u001b[1;33m)\u001b[0m\u001b[1;33m)\u001b[0m\u001b[1;33m:\u001b[0m\u001b[1;33m\u001b[0m\u001b[0m\n",
      "\u001b[0;31mNameError\u001b[0m: name 'perm' is not defined"
     ]
    }
   ],
   "source": [
    "#田忌赛马  \n",
    "def horseRacing():  \n",
    "    a = ['上等马', '中等马', '下等马'];  \n",
    "    b = perm(a);  \n",
    "    win = 0;  \n",
    "    for i in range(len(b)):  \n",
    "        win = 0;  \n",
    "        if (b[i][1] == '上等马'):  \n",
    "            win+=1;  \n",
    "  \n",
    "        if (b[i][2] != '下等马'):  \n",
    "            win += 1;  \n",
    "              \n",
    "        print('田忌的出马顺序：{0}, 胜{1}场。'.format(b[i], win));\n",
    "        \n",
    "        \n",
    "horseRacing()        "
   ]
  },
  {
   "cell_type": "code",
   "execution_count": 3,
   "metadata": {
    "collapsed": false
   },
   "outputs": [
    {
     "name": "stdout",
     "output_type": "stream",
     "text": [
      "报数顺序是这样的：[2, 1, 1, 2, 2, 2]，结果B贏了。\n",
      "报数顺序是这样的：[2, 1, 1, 1, 2, 2, 1]，结果A贏了。\n",
      "报数顺序是这样的：[2, 2, 2, 2, 2]，结果A贏了。\n",
      "报数顺序是这样的：[2, 2, 2, 2, 1, 1]，结果B贏了。\n",
      "报数顺序是这样的：[1, 2, 1, 2, 2, 2]，结果B贏了。\n",
      "报数顺序是这样的：[2, 1, 2, 1, 2, 2]，结果B贏了。\n",
      "本局平手，没有胜者。\n",
      "报数顺序是这样的：[2, 2, 1, 2, 2, 1]，结果B贏了。\n",
      "本局平手，没有胜者。\n",
      "报数顺序是这样的：[1, 2, 1, 1, 2, 1, 2]，结果A贏了。\n"
     ]
    }
   ],
   "source": [
    "def tmp():  \n",
    "    import random;  \n",
    "      \n",
    "    #玩10次  \n",
    "    for i in range(10):  \n",
    "        total = 0;  \n",
    "        count = 0;  \n",
    "        a = [];  \n",
    "  \n",
    "        while total<10:  \n",
    "            num = random.randrange(1,3);  \n",
    "            total+=num;  \n",
    "            count+=1;  \n",
    "            a.append(num);  \n",
    "  \n",
    "            if (total == 10):  \n",
    "                if (count%2==1):  \n",
    "                    print('报数顺序是这样的：{0}，结果A贏了。'.format(a));  \n",
    "                else:  \n",
    "                    print('报数顺序是这样的：{0}，结果B贏了。'.format(a));  \n",
    "            elif (total > 10):  \n",
    "                print('本局平手，没有胜者。');  \n",
    "    return;\n",
    "\n",
    "tmp()"
   ]
  },
  {
   "cell_type": "code",
   "execution_count": null,
   "metadata": {
    "collapsed": true
   },
   "outputs": [],
   "source": []
  }
 ],
 "metadata": {
  "kernelspec": {
   "display_name": "Python 3",
   "language": "python",
   "name": "python3"
  },
  "language_info": {
   "codemirror_mode": {
    "name": "ipython",
    "version": 3
   },
   "file_extension": ".py",
   "mimetype": "text/x-python",
   "name": "python",
   "nbconvert_exporter": "python",
   "pygments_lexer": "ipython3",
   "version": "3.5.2"
  }
 },
 "nbformat": 4,
 "nbformat_minor": 2
}
