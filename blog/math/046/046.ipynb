{
 "cells": [
  {
   "cell_type": "code",
   "execution_count": 1,
   "metadata": {
    "collapsed": false
   },
   "outputs": [
    {
     "name": "stdout",
     "output_type": "stream",
     "text": [
      "两天一共进的水果有{'苹果', '桔子', '西瓜', '鸭梨', '芒果', '菠萝', '草莓', '香蕉'}\n",
      "两天都进了的水果有{'鸭梨', '桔子', '香蕉', '菠萝'}\n",
      "今天比昨天多进的水果有{'芒果', '草莓', '苹果'}\n",
      "昨天比今天多进的水果有{'西瓜'}\n"
     ]
    }
   ],
   "source": [
    "def tmp():  \n",
    "    setA = set(['香蕉', '桔子', '鸭梨', '菠萝', '西瓜']);  \n",
    "    setB = set(['草莓', '苹果', '芒果', '香蕉', '桔子', '鸭梨', '菠萝']);  \n",
    "  \n",
    "  \n",
    "    #交集intersection  \n",
    "    #并集 Union  \n",
    "    #差集 Difference set  \n",
    "    #补集 Complement  \n",
    "    setC = setA.union(setB);  \n",
    "    print('两天一共进的水果有{0}'.format(setC));  \n",
    "    setC = setB.intersection(setA);  \n",
    "    print('两天都进了的水果有{0}'.format(setC));  \n",
    "    setC = setB.difference(setA);  \n",
    "    print('今天比昨天多进的水果有{0}'.format(setC));  \n",
    "    setC = setA.difference(setB);  \n",
    "    print('昨天比今天多进的水果有{0}'.format(setC));\n",
    "    \n",
    "tmp()    "
   ]
  },
  {
   "cell_type": "code",
   "execution_count": 2,
   "metadata": {
    "collapsed": false
   },
   "outputs": [
    {
     "name": "stdout",
     "output_type": "stream",
     "text": [
      "一共有：{'王哲', '宋玲玲', '崔美兰', '姜旭', '罗红', '高新', '孙晓明', '沈欢', '郑虹', '黄阳', '万大林', '魏东', '徐丽娟', '马晓军', '胡霞'}\n",
      "合计有15人\n",
      "既会唱歌又会跳舞的有：{'罗红', '宋玲玲', '黄阳', '马晓军'}\n",
      "合计有4人\n",
      "会唱歌不会跳舞的有：{'魏东', '沈欢', '王哲', '崔美兰', '孙晓明'}\n",
      "合计有5人\n",
      "会跳舞不会唱歌的有：{'姜旭', '郑虹', '万大林', '徐丽娟', '高新', '胡霞'}\n",
      "合计有6人\n"
     ]
    }
   ],
   "source": [
    "def tmp2():  \n",
    "    sing = set(['魏东', '马晓军', '孙晓明', '黄阳', '崔美兰', '王哲','罗红', '宋玲玲', '沈欢']);  \n",
    "    dance = set(['高新', '郑虹', '马晓军', '胡霞', '黄阳', '万大林', '宋玲玲', '姜旭', '罗红', '徐丽娟']);  \n",
    "  \n",
    "  \n",
    "    #交集intersection  \n",
    "    #并集 Union  \n",
    "    #差集 Difference set  \n",
    "    #补集 Complement  \n",
    "    setC = sing.union(dance);  \n",
    "    print('一共有：{0}'.format(setC));  \n",
    "    print('合计有{0}人'.format(len(setC)));  \n",
    "    setC = sing.intersection(dance);  \n",
    "    print('既会唱歌又会跳舞的有：{0}'.format(setC));  \n",
    "    print('合计有{0}人'.format(len(setC)));  \n",
    "    setC = sing.difference(dance);  \n",
    "    print('会唱歌不会跳舞的有：{0}'.format(setC));  \n",
    "    print('合计有{0}人'.format(len(setC)));  \n",
    "    setC = dance.difference(sing);  \n",
    "    print('会跳舞不会唱歌的有：{0}'.format(setC));  \n",
    "    print('合计有{0}人'.format(len(setC)));\n",
    "    \n",
    "tmp2()    "
   ]
  },
  {
   "cell_type": "code",
   "execution_count": 3,
   "metadata": {
    "collapsed": false
   },
   "outputs": [
    {
     "name": "stdout",
     "output_type": "stream",
     "text": [
      "有{'小雨', '外公', '舅舅', '外婆', '姑姑', '爸爸', '爷爷', '姨妈', '叔叔'}, 合计9人。\n",
      "有{'小雨', '外公', '奶奶', '妈妈', '爸爸', '爷爷', '姨妈', '叔叔'}, 合计8人。\n"
     ]
    }
   ],
   "source": [
    "def tmp3():  \n",
    "    #圣女果  \n",
    "    setA = set(['爷爷','爸爸','外公','姨妈','小雨','叔叔']);  \n",
    "    #草莓  \n",
    "    setB = set(['奶奶','妈妈','爷爷','小雨']);  \n",
    "    #小黄瓜  \n",
    "    setC = set(['姑姑','舅舅','外婆']);  \n",
    "  \n",
    "    setD = setA.union(setC);  \n",
    "    print('有{0}, 合计{1}人。'.format(setD, len(setD)));  \n",
    "    setD = setA.union(setB);  \n",
    "    print('有{0}, 合计{1}人。'.format(setD, len(setD)));\n",
    "    \n",
    "tmp3()    "
   ]
  },
  {
   "cell_type": "code",
   "execution_count": null,
   "metadata": {
    "collapsed": true
   },
   "outputs": [],
   "source": []
  }
 ],
 "metadata": {
  "kernelspec": {
   "display_name": "Python 3",
   "language": "python",
   "name": "python3"
  },
  "language_info": {
   "codemirror_mode": {
    "name": "ipython",
    "version": 3
   },
   "file_extension": ".py",
   "mimetype": "text/x-python",
   "name": "python",
   "nbconvert_exporter": "python",
   "pygments_lexer": "ipython3",
   "version": "3.5.2"
  }
 },
 "nbformat": 4,
 "nbformat_minor": 0
}
