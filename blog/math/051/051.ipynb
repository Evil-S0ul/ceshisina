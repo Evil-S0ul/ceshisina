{
 "cells": [
  {
   "cell_type": "code",
   "execution_count": 1,
   "metadata": {
    "collapsed": false
   },
   "outputs": [
    {
     "name": "stdout",
     "output_type": "stream",
     "text": [
      "31 × 11 = 341\n",
      "32 × 11 = 352\n",
      "33 × 11 = 363\n",
      "34 × 11 = 374\n",
      "35 × 11 = 385\n",
      "41 × 11 = 451\n",
      "42 × 11 = 462\n",
      "43 × 11 = 473\n",
      "44 × 11 = 484\n",
      "45 × 11 = 495\n",
      "50 × 11 = 550\n",
      "51 × 11 = 561\n",
      "52 × 11 = 572\n",
      "53 × 11 = 583\n",
      "54 × 11 = 594\n"
     ]
    }
   ],
   "source": [
    "#第51节 两位数乘两位数\n",
    "\n",
    "def tmp():  \n",
    "    for i in range(31, 36):  \n",
    "        print('{0} × {1} = {2}'.format(i, 11, i*11));  \n",
    "    for i in range(41, 46):  \n",
    "        print('{0} × {1} = {2}'.format(i, 11, i*11));  \n",
    "    for i in range(50, 55):  \n",
    "        print('{0} × {1} = {2}'.format(i, 11, i*11))\n",
    "        \n",
    "        \n",
    "tmp()        "
   ]
  },
  {
   "cell_type": "code",
   "execution_count": null,
   "metadata": {
    "collapsed": true
   },
   "outputs": [],
   "source": []
  }
 ],
 "metadata": {
  "kernelspec": {
   "display_name": "Python 3",
   "language": "python",
   "name": "python3"
  },
  "language_info": {
   "codemirror_mode": {
    "name": "ipython",
    "version": 3
   },
   "file_extension": ".py",
   "mimetype": "text/x-python",
   "name": "python",
   "nbconvert_exporter": "python",
   "pygments_lexer": "ipython3",
   "version": "3.5.2"
  }
 },
 "nbformat": 4,
 "nbformat_minor": 0
}
