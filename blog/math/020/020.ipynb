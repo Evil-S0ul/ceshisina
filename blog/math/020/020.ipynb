{
 "cells": [
  {
   "cell_type": "code",
   "execution_count": 1,
   "metadata": {
    "collapsed": false
   },
   "outputs": [
    {
     "name": "stdout",
     "output_type": "stream",
     "text": [
      "46 + 37 = 83\n",
      "18 + 65 = 83\n",
      "76 + 7 = 83\n",
      "31 + 52 = 83\n",
      "98 - 36 = 62\n",
      "71 - 9 = 62\n",
      "80 - 18 = 62\n",
      "91 - 29 = 62\n"
     ]
    }
   ],
   "source": [
    "#第20节 100以内的加法和减法（二）\n",
    "\n",
    "def tmp():  \n",
    "    a = [46,18,76,31];  \n",
    "    b = [7,37,52,65];  \n",
    "    c = [98,71,80,91];  \n",
    "    d = [18,29,36,9];  \n",
    "    for i in range(len(a)):  \n",
    "        for j in range(len(b)):  \n",
    "            if a[i]+b[j] == 83:  \n",
    "                print('{0} + {1} = 83'.format(a[i], b[j]));  \n",
    "  \n",
    "    for i in range(len(c)):  \n",
    "        for j in range(len(d)):  \n",
    "            if c[i]-d[j] == 62:  \n",
    "                print('{0} - {1} = 62'.format(c[i], d[j]));  \n",
    "    return\n",
    "\n",
    "tmp()"
   ]
  },
  {
   "cell_type": "code",
   "execution_count": null,
   "metadata": {
    "collapsed": true
   },
   "outputs": [],
   "source": []
  }
 ],
 "metadata": {
  "kernelspec": {
   "display_name": "Python 3",
   "language": "python",
   "name": "python3"
  },
  "language_info": {
   "codemirror_mode": {
    "name": "ipython",
    "version": 3
   },
   "file_extension": ".py",
   "mimetype": "text/x-python",
   "name": "python",
   "nbconvert_exporter": "python",
   "pygments_lexer": "ipython3",
   "version": "3.5.2"
  }
 },
 "nbformat": 4,
 "nbformat_minor": 0
}
