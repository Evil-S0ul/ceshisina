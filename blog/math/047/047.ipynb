{
 "cells": [
  {
   "cell_type": "code",
   "execution_count": 2,
   "metadata": {
    "collapsed": false
   },
   "outputs": [
    {
     "name": "stdout",
     "output_type": "stream",
     "text": [
      "1/2 1/2 \n",
      "1/3 1/3 1/3 \n",
      "1/4 1/4 1/4 1/4 \n",
      "1/5 1/5 1/5 1/5 1/5 \n",
      "1/6 1/6 1/6 1/6 1/6 1/6 \n",
      "1/7 1/7 1/7 1/7 1/7 1/7 1/7 \n",
      "1/8 1/8 1/8 1/8 1/8 1/8 1/8 1/8 \n",
      "1/9 1/9 1/9 1/9 1/9 1/9 1/9 1/9 1/9 \n"
     ]
    }
   ],
   "source": [
    "from fractions import * \n",
    "def fractionWall():  \n",
    "    for i in range(2,10):  \n",
    "        for j in range(i):  \n",
    "            print(Fraction(1, i), end=' ');  \n",
    "        print(''); \n",
    "        \n",
    "fractionWall()        "
   ]
  },
  {
   "cell_type": "code",
   "execution_count": 4,
   "metadata": {
    "collapsed": false
   },
   "outputs": [
    {
     "ename": "TypeError",
     "evalue": "non-empty format string passed to object.__format__",
     "output_type": "error",
     "traceback": [
      "\u001b[0;31m---------------------------------------------------------------------------\u001b[0m",
      "\u001b[0;31mTypeError\u001b[0m                                 Traceback (most recent call last)",
      "\u001b[0;32m<ipython-input-4-f0ce8f926c83>\u001b[0m in \u001b[0;36m<module>\u001b[0;34m()\u001b[0m\n\u001b[1;32m      7\u001b[0m         \u001b[0mprint\u001b[0m\u001b[0;34m(\u001b[0m\u001b[0;34m''\u001b[0m\u001b[0;34m)\u001b[0m\u001b[0;34m;\u001b[0m\u001b[0;34m\u001b[0m\u001b[0m\n\u001b[1;32m      8\u001b[0m \u001b[0;34m\u001b[0m\u001b[0m\n\u001b[0;32m----> 9\u001b[0;31m \u001b[0mfractionWall\u001b[0m\u001b[0;34m(\u001b[0m\u001b[0;34m)\u001b[0m\u001b[0;34m\u001b[0m\u001b[0m\n\u001b[0m",
      "\u001b[0;32m<ipython-input-4-f0ce8f926c83>\u001b[0m in \u001b[0;36mfractionWall\u001b[0;34m()\u001b[0m\n\u001b[1;32m      4\u001b[0m         \u001b[0mwordWidth\u001b[0m \u001b[0;34m=\u001b[0m \u001b[0mlineLen\u001b[0m\u001b[0;34m//\u001b[0m\u001b[0mi\u001b[0m\u001b[0;34m;\u001b[0m\u001b[0;34m\u001b[0m\u001b[0m\n\u001b[1;32m      5\u001b[0m         \u001b[0;32mfor\u001b[0m \u001b[0mj\u001b[0m \u001b[0;32min\u001b[0m \u001b[0mrange\u001b[0m\u001b[0;34m(\u001b[0m\u001b[0mi\u001b[0m\u001b[0;34m)\u001b[0m\u001b[0;34m:\u001b[0m\u001b[0;34m\u001b[0m\u001b[0m\n\u001b[0;32m----> 6\u001b[0;31m             \u001b[0mprint\u001b[0m\u001b[0;34m(\u001b[0m\u001b[0;34m'{0:^{width}}'\u001b[0m\u001b[0;34m.\u001b[0m\u001b[0mformat\u001b[0m\u001b[0;34m(\u001b[0m\u001b[0mFraction\u001b[0m\u001b[0;34m(\u001b[0m\u001b[0;36m1\u001b[0m\u001b[0;34m,\u001b[0m \u001b[0mi\u001b[0m\u001b[0;34m)\u001b[0m\u001b[0;34m,\u001b[0m \u001b[0mwidth\u001b[0m\u001b[0;34m=\u001b[0m\u001b[0mwordWidth\u001b[0m\u001b[0;34m)\u001b[0m\u001b[0;34m,\u001b[0m \u001b[0mend\u001b[0m\u001b[0;34m=\u001b[0m\u001b[0;34m' '\u001b[0m\u001b[0;34m)\u001b[0m\u001b[0;34m;\u001b[0m\u001b[0;34m\u001b[0m\u001b[0m\n\u001b[0m\u001b[1;32m      7\u001b[0m         \u001b[0mprint\u001b[0m\u001b[0;34m(\u001b[0m\u001b[0;34m''\u001b[0m\u001b[0;34m)\u001b[0m\u001b[0;34m;\u001b[0m\u001b[0;34m\u001b[0m\u001b[0m\n\u001b[1;32m      8\u001b[0m \u001b[0;34m\u001b[0m\u001b[0m\n",
      "\u001b[0;31mTypeError\u001b[0m: non-empty format string passed to object.__format__"
     ]
    }
   ],
   "source": [
    "def fractionWall():  \n",
    "    lineLen = 4*9;  \n",
    "    for i in range(2,10):  \n",
    "        wordWidth = lineLen//i;  \n",
    "        for j in range(i):  \n",
    "            print('{0:^{width}}'.format(Fraction(1, i), width=wordWidth), end=' ');  \n",
    "        print('');\n",
    "        \n",
    "fractionWall()    "
   ]
  },
  {
   "cell_type": "code",
   "execution_count": 5,
   "metadata": {
    "collapsed": false
   },
   "outputs": [
    {
     "name": "stdout",
     "output_type": "stream",
     "text": [
      "AC = AB + BC\n",
      "AC = AB + BC\n",
      "-小刚家--学校- = -小刚家--书店- + -书店--学校-\n",
      "AD = AB + BC + CD\n",
      "AD = AB + BC + CD\n",
      "-小刚家--超市- = -小刚家--书店- + -书店--学校- + -学校--超市-\n",
      "BD = BC + CD\n",
      "BD = BC + CD\n",
      "-书店--超市- = -书店--学校- + -学校--超市-\n"
     ]
    }
   ],
   "source": [
    "###  \n",
    "# @usage   线段分离系列工具  \n",
    "###  \n",
    "#字符在数组中与否的判断  \n",
    "def charInArray(array, c):  \n",
    "    length = len(array);  \n",
    "    for i in range(length):  \n",
    "        if c == array[i]:  \n",
    "            return True;  \n",
    "    return False;  \n",
    "  \n",
    "#有效的路径字符串  \n",
    "def validPathString(array, s):  \n",
    "    length = len(s);  \n",
    "    for i in range(length):  \n",
    "        if charInArray(array, s[i]) == False:  \n",
    "            return False;  \n",
    "    return True;    \n",
    "  \n",
    "# 去除相邻的相同字符  \n",
    "\n",
    "def removeAdjacentSameChar(s):  \n",
    "    sNew = s[0];  \n",
    "    length = len(s);  \n",
    "  \n",
    "    for i in range(length):  \n",
    "        if sNew[-1] != s[i]:  \n",
    "            sNew+=s[i];  \n",
    "    return sNew;  \n",
    "  \n",
    "#分离路径表达式  \n",
    "def dividePath(array, s):  \n",
    "    s = removeAdjacentSameChar(s);  \n",
    "    if validPathString(array, s) == False:  \n",
    "        return '';  \n",
    "  \n",
    "    length = len(s);  \n",
    "    expression = '';  \n",
    "    expression += s + ' = ';  \n",
    "  \n",
    "    for i in range(length-1):  \n",
    "        pos1 = array.index(s[i]);  \n",
    "        pos2 = array.index(s[i+1]);  \n",
    "  \n",
    "        if (pos1 > pos2):  \n",
    "            direction = -1;  \n",
    "        elif (pos1 < pos2):  \n",
    "            direction = 1;  \n",
    "        else:  \n",
    "            direction = 0;  \n",
    "  \n",
    "        while pos1 != pos2:  \n",
    "            expression += array[pos1]+array[pos1+direction];  \n",
    "  \n",
    "            if (i >= length-2 and pos1+direction == pos2):  \n",
    "                pass;  \n",
    "            else:  \n",
    "                expression+= ' + ';  \n",
    "              \n",
    "            pos1 += direction;  \n",
    "  \n",
    "    print(expression);  \n",
    "    return expression;\n",
    "\n",
    "if __name__ == '__main__':  \n",
    "    dictionary = dict({'A':'小刚家', 'B':'书店', 'C':'学校', 'D':'超市'});  \n",
    "    array = ['A', 'B', 'C', 'D'];  \n",
    "  \n",
    "    #小刚家到学校  \n",
    "    s = 'AC';  \n",
    "    expression = dividePath(array, s);  \n",
    "    print(expression);  \n",
    "    expression = expression.replace('A', '-小刚家-');  \n",
    "    expression = expression.replace('B', '-书店-');  \n",
    "    expression = expression.replace('C', '-学校-');  \n",
    "    expression = expression.replace('D', '-超市-');  \n",
    "    print(expression);  \n",
    "  \n",
    "    #小刚家到超市  \n",
    "    s = 'AD';  \n",
    "    expression = dividePath(array, s);  \n",
    "    print(expression);  \n",
    "    expression = expression.replace('A', '-小刚家-');  \n",
    "    expression = expression.replace('B', '-书店-');  \n",
    "    expression = expression.replace('C', '-学校-');  \n",
    "    expression = expression.replace('D', '-超市-');  \n",
    "    print(expression);  \n",
    "  \n",
    "    #书店到超市  \n",
    "    s = 'BD';  \n",
    "    expression = dividePath(array, s);  \n",
    "    print(expression);  \n",
    "    expression = expression.replace('A', '-小刚家-');  \n",
    "    expression = expression.replace('B', '-书店-');  \n",
    "    expression = expression.replace('C', '-学校-');  \n",
    "    expression = expression.replace('D', '-超市-');  \n",
    "    print(expression);  "
   ]
  },
  {
   "cell_type": "code",
   "execution_count": 6,
   "metadata": {
    "collapsed": false
   },
   "outputs": [
    {
     "name": "stdout",
     "output_type": "stream",
     "text": [
      "2500 = AB + BC , 6000 = AB + BC + CD , 4000 = BC + CD\n"
     ]
    }
   ],
   "source": [
    "if __name__ == '__main__':  \n",
    "    s = 'AC = AB + BC , AD = AB + BC + CD , BD = BC + CD';  \n",
    "    s = s.replace('AC', '2500');  \n",
    "    s = s.replace('AD', '6000');  \n",
    "    s = s.replace('BD', '4000');  \n",
    "    print(s);"
   ]
  },
  {
   "cell_type": "code",
   "execution_count": 8,
   "metadata": {
    "collapsed": false
   },
   "outputs": [
    {
     "name": "stdout",
     "output_type": "stream",
     "text": [
      "['3', '5', '1', '5']\n",
      "3/5+1/5 = Fraction('3')/Fraction('5')+Fraction('1')/Fraction('5') = 4/5, \n",
      "\n",
      "['5', '7', '2', '7']\n",
      "5/7-2/7 = Fraction('5')/Fraction('7')-Fraction('2')/Fraction('7') = 3/7, \n",
      "\n",
      "['4', '9', '1', '9']\n",
      "4/9+1/9 = Fraction('4')/Fraction('9')+Fraction('1')/Fraction('9') = 5/9, \n",
      "\n",
      "['6', '6', '3', '6']\n",
      "6/6-3/6 = Fraction('6')/Fraction('6')-Fraction('3')/Fraction('6') = 1/2, \n",
      "\n",
      "['1', '2', '3']\n",
      "1-2/3 = Fraction('1')-Fraction('2')/Fraction('3') = 1/3, \n",
      "\n",
      "['1', '6', '5', '6']\n",
      "1/6+5/6 = Fraction('1')/Fraction('6')+Fraction('5')/Fraction('6') = 1, \n",
      "\n",
      "['7', '8', '4', '8']\n",
      "7/8-4/8 = Fraction('7')/Fraction('8')-Fraction('4')/Fraction('8') = 3/8, \n",
      "\n",
      "['1', '4', '3', '4']\n",
      "1/4+3/4 = Fraction('1')/Fraction('4')+Fraction('3')/Fraction('4') = 1, \n",
      "\n"
     ]
    }
   ],
   "source": [
    "###  \n",
    "# @usage   分数运算  \n",
    "###  \n",
    "def fractionCalc():  \n",
    "      \n",
    "    # 可以将任意的四则运算表达式用分数进行计算，  \n",
    "    # 而不是将浮点结果简单转化成分数。  \n",
    "    fin = open('input2.txt');  \n",
    "    fout= open('output2.txt', 'a');  \n",
    "    for line in fin.readlines():  \n",
    "        if line[-1] == '\\n':  \n",
    "            line = line[:-1];       \n",
    "              \n",
    "        if line == '':  \n",
    "            continue;  \n",
    "        elif line.startswith('#'):  \n",
    "            print(line);  \n",
    "            fout.write(line+'\\n');  \n",
    "        else:  \n",
    "            lines = line.split(sep=' ');  \n",
    "            for i in range(len(lines)):  \n",
    "                if lines[i]=='':  \n",
    "                    continue;  \n",
    "                #消除空格  \n",
    "                lines[i] = lines[i].replace(' ', '');  \n",
    "                expCount = len(lines[i]);  \n",
    "                expression = '';  \n",
    "  \n",
    "                #分割操作数  \n",
    "                operands = [];  \n",
    "                stmp = '';  \n",
    "                indexBeg = 0;  \n",
    "                indexEnd = 0;  \n",
    "                for j in range(expCount):  \n",
    "                    if isOps(lines[i][j]):  \n",
    "                        if stmp != '':  \n",
    "                            operands.append(stmp);  \n",
    "                            stmp = '';  \n",
    "                    else:  \n",
    "                        stmp+=lines[i][j];  \n",
    "                if stmp != '':  \n",
    "                    operands.append(stmp);  \n",
    "                  \n",
    "                print(operands);  \n",
    "  \n",
    "                #操作数修饰  \n",
    "                operandCount = len(operands);  \n",
    "                operandString = [];  \n",
    "                #数字如1/7要转化成Fraction('1/7')这种样式才可以算出正确结果，引号不可以少掉。  \n",
    "                for j in range(operandCount):  \n",
    "                    stmp = '';  \n",
    "                    stmp = 'Fraction(\\''+operands[j]+'\\')';  \n",
    "                    operandString.append(stmp);  \n",
    "  \n",
    "                #组装新表达式         \n",
    "                typechange = 1;  \n",
    "                index = 0;  \n",
    "                expression = '';  \n",
    "                  \n",
    "                for j in range(expCount):  \n",
    "                    #操作符直接添加  \n",
    "                    if  isOps(lines[i][j]):  \n",
    "                        expression+=lines[i][j];  \n",
    "                    else:  \n",
    "                        if j > 0 and typechange == 0 and isOps(lines[i][j-1]):  \n",
    "                            typechange = 1;  \n",
    "                          \n",
    "                        #从操作数序列中选择对应操作数。  \n",
    "                        if typechange == 1:  \n",
    "                            if index > len(operandString):  \n",
    "                                break;  \n",
    "                            expression += operandString[index];  \n",
    "                            index+=1;  \n",
    "                            typechange = 0;  \n",
    "                   \n",
    "                #表达式结果的运算打印  \n",
    "                s = '{0} = {1} = {2}'.format(lines[i],expression, eval(expression));  \n",
    "                print(s, end=', ');  \n",
    "                fout.write(s + ', ');  \n",
    "            print('\\n');  \n",
    "            fout.write('\\n');  \n",
    "    fout.close();  \n",
    "    fin.close();  \n",
    "\n",
    "def isOps(c):  \n",
    "    if c == '+' or c == '-' or c == '/' or c == '*' or c == '(' or c ==')':  \n",
    "        return 1;  \n",
    "    else:  \n",
    "        return 0;\n",
    "    \n",
    "fractionCalc()    "
   ]
  },
  {
   "cell_type": "code",
   "execution_count": null,
   "metadata": {
    "collapsed": true
   },
   "outputs": [],
   "source": []
  }
 ],
 "metadata": {
  "kernelspec": {
   "display_name": "Python 3",
   "language": "python",
   "name": "python3"
  },
  "language_info": {
   "codemirror_mode": {
    "name": "ipython",
    "version": 3
   },
   "file_extension": ".py",
   "mimetype": "text/x-python",
   "name": "python",
   "nbconvert_exporter": "python",
   "pygments_lexer": "ipython3",
   "version": "3.5.2"
  }
 },
 "nbformat": 4,
 "nbformat_minor": 0
}
