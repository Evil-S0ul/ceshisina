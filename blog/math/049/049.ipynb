{
 "cells": [
  {
   "cell_type": "code",
   "execution_count": 1,
   "metadata": {
    "collapsed": false
   },
   "outputs": [
    {
     "name": "stdout",
     "output_type": "stream",
     "text": [
      "\n",
      "除以2没有余数的：\n",
      "48 126 114 354 \n",
      "除以5余1的：\n",
      "126 261 \n",
      "除以7余2的：\n",
      "261 114 "
     ]
    }
   ],
   "source": [
    "#第49节 除数是一位数的除法 \n",
    "\n",
    "def tmp():  \n",
    "    a = [48,99,126,261,114,354];  \n",
    "  \n",
    "    print('\\n除以2没有余数的：');  \n",
    "    for i in range(len(a)):  \n",
    "        result = divmod(a[i], 2);  \n",
    "        if result[1] == 0:  \n",
    "            print(a[i], end = ' ');  \n",
    "  \n",
    "    print('\\n除以5余1的：');  \n",
    "    for i in range(len(a)):  \n",
    "        result = divmod(a[i], 5);  \n",
    "        if result[1] == 1:  \n",
    "            print(a[i], end = ' ');  \n",
    "  \n",
    "    print('\\n除以7余2的：');  \n",
    "    for i in range(len(a)):  \n",
    "        result = divmod(a[i], 7);  \n",
    "        if result[1] == 2:  \n",
    "            print(a[i], end = ' ');\n",
    "            \n",
    "tmp()            "
   ]
  },
  {
   "cell_type": "code",
   "execution_count": 2,
   "metadata": {
    "collapsed": false
   },
   "outputs": [
    {
     "name": "stdout",
     "output_type": "stream",
     "text": [
      "\n",
      "除以3没有余数的：\n",
      "324 435 45 123 \n",
      "除以5没有余数的：\n",
      "435 220 45 "
     ]
    }
   ],
   "source": [
    "def tmp():  \n",
    "    a = [324,435,220,45,123];  \n",
    "  \n",
    "    print('\\n除以3没有余数的：');  \n",
    "    for i in range(len(a)):  \n",
    "        result = divmod(a[i], 3);  \n",
    "        if result[1] == 0:  \n",
    "            print(a[i], end = ' ');  \n",
    "  \n",
    "    print('\\n除以5没有余数的：');  \n",
    "    for i in range(len(a)):  \n",
    "        result = divmod(a[i], 5);  \n",
    "        if result[1] == 0:  \n",
    "            print(a[i], end = ' ');\n",
    "            \n",
    "tmp()            "
   ]
  },
  {
   "cell_type": "code",
   "execution_count": null,
   "metadata": {
    "collapsed": true
   },
   "outputs": [],
   "source": []
  }
 ],
 "metadata": {
  "kernelspec": {
   "display_name": "Python 3",
   "language": "python",
   "name": "python3"
  },
  "language_info": {
   "codemirror_mode": {
    "name": "ipython",
    "version": 3
   },
   "file_extension": ".py",
   "mimetype": "text/x-python",
   "name": "python",
   "nbconvert_exporter": "python",
   "pygments_lexer": "ipython3",
   "version": "3.5.2"
  }
 },
 "nbformat": 4,
 "nbformat_minor": 0
}
