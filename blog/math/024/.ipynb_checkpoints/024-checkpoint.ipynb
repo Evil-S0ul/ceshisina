{
 "cells": [
  {
   "cell_type": "code",
   "execution_count": 2,
   "metadata": {
    "collapsed": false
   },
   "outputs": [],
   "source": [
    "#第24节 表内乘法（二）\n",
    "#数字的中文写法                  \n",
    "def numToChinese(num, s):  \n",
    "    chineseOfNumber=['零','一', '二', '三', '四', '五', '六', '七', '八', '九', '十','百','千','万','亿'];  \n",
    "    bit = 0;  \n",
    "    tmp = num;  \n",
    "    while (tmp > 0):  \n",
    "        tmp = tmp//10;  \n",
    "        bit+=1;  \n",
    "    tmp = num;  \n",
    "    while (tmp > 0):  \n",
    "        if (tmp < 10):  \n",
    "            s += chineseOfNumber[tmp];  \n",
    "            tmp -= 10;  \n",
    "        elif (tmp < 100):  \n",
    "            s += chineseOfNumber[tmp//10];  \n",
    "            s += '十';  \n",
    "            tmp = tmp%10;   \n",
    "        elif (tmp < 1000):  \n",
    "            s += chineseOfNumber[tmp//100];  \n",
    "            s += '百';  \n",
    "            tmp = tmp%100;  \n",
    "            if tmp < 10 and tmp > 0:  \n",
    "                s += '零';  \n",
    "        elif (tmp < 10000):  \n",
    "            s += chineseOfNumber[tmp//1000];  \n",
    "            s += '千';  \n",
    "            tmp = tmp%1000;  \n",
    "            if tmp < 100 and tmp > 0:  \n",
    "                s += '零';  \n",
    "        elif (tmp < 100000000):  \n",
    "            s1 = '';  \n",
    "            s += numToChinese(tmp//10000, s1);  \n",
    "            s += '万';  \n",
    "            tmp =tmp%10000;  \n",
    "            if tmp < 1000 and tmp > 0:  \n",
    "                s += '零';  \n",
    "        elif (tmp >= 100000000):  \n",
    "            s1 = '';  \n",
    "            s += numToChinese(tmp//100000000, s1);  \n",
    "            s += '亿';  \n",
    "            tmp = tmp%100000000;  \n",
    "            if tmp < 10000000 and tmp > 0:  \n",
    "                s += '零';  \n",
    "        else:  \n",
    "            pass;  \n",
    "    return s\n"
   ]
  },
  {
   "cell_type": "code",
   "execution_count": 3,
   "metadata": {
    "collapsed": false
   },
   "outputs": [
    {
     "name": "stdout",
     "output_type": "stream",
     "text": [
      "一一得一 \n",
      "\n",
      "一二得二 二二得四 \n",
      "\n",
      "一三得三 二三得六 三三得九 \n",
      "\n",
      "一四得四 二四得八 三四一十二 四四一十六 \n",
      "\n",
      "一五得五 二五一十 三五一十五 四五二十 五五二十五 \n",
      "\n",
      "一六得六 二六一十二 三六一十八 四六二十四 五六三十 六六三十六 \n",
      "\n",
      "一七得七 二七一十四 三七二十一 四七二十八 五七三十五 六七四十二 七七四十九 \n",
      "\n",
      "一八得八 二八一十六 三八二十四 四八三十二 五八四十 六八四十八 七八五十六 八八六十四 \n",
      "\n",
      "一九得九 二九一十八 三九二十七 四九三十六 五九四十五 六九五十四 七九六十三 八九七十二 九九八十一 \n",
      "\n"
     ]
    }
   ],
   "source": [
    "#表内乘法口诀（二）  \n",
    "def multiplication():  \n",
    "    for j in range(1, 10):  \n",
    "        for i in range(1, 10):  \n",
    "            if (i > j):  \n",
    "                continue;  \n",
    "            result = i * j;  \n",
    "            if (result < 10):  \n",
    "                s = '' + numToChinese(i, '')+numToChinese(j, '')+'得'+numToChinese(result, '');  \n",
    "                print(s, end=' ');  \n",
    "            else:  \n",
    "                s = '' + numToChinese(i, '')+numToChinese(j, '')+numToChinese(result, '')  \n",
    "                print(s, end=' ');  \n",
    "        print('\\n');  \n",
    "    return;\n",
    "\n",
    "multiplication()"
   ]
  },
  {
   "cell_type": "code",
   "execution_count": null,
   "metadata": {
    "collapsed": true
   },
   "outputs": [],
   "source": []
  }
 ],
 "metadata": {
  "kernelspec": {
   "display_name": "Python 3",
   "language": "python",
   "name": "python3"
  },
  "language_info": {
   "codemirror_mode": {
    "name": "ipython",
    "version": 3
   },
   "file_extension": ".py",
   "mimetype": "text/x-python",
   "name": "python",
   "nbconvert_exporter": "python",
   "pygments_lexer": "ipython3",
   "version": "3.5.2"
  }
 },
 "nbformat": 4,
 "nbformat_minor": 0
}
