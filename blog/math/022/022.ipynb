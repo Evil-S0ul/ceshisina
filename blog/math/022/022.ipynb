{
 "cells": [
  {
   "cell_type": "code",
   "execution_count": 2,
   "metadata": {
    "collapsed": false
   },
   "outputs": [],
   "source": [
    "#第22节 表内乘法（一）\n",
    "\n",
    "#数字的中文写法                  \n",
    "def numToChinese(num, s):  \n",
    "    chineseOfNumber=['零','一', '二', '三', '四', '五', '六','七', '八', '九', '十','百','千','万','亿'];  \n",
    "    bit = 0;  \n",
    "    tmp = num;  \n",
    "    while (tmp > 0):  \n",
    "        tmp = tmp//10;  \n",
    "        bit+=1;  \n",
    "    tmp = num;  \n",
    "    while (tmp > 0):  \n",
    "        if (tmp < 10):  \n",
    "            s += chineseOfNumber[tmp];  \n",
    "            tmp -= 10;  \n",
    "        elif (tmp < 100):  \n",
    "            s += chineseOfNumber[tmp//10];  \n",
    "            s += '十';  \n",
    "            tmp = tmp%10;   \n",
    "        elif (tmp < 1000):  \n",
    "            s += chineseOfNumber[tmp//100];  \n",
    "            s += '百';  \n",
    "            tmp = tmp%100;  \n",
    "            if tmp < 10 and tmp > 0:  \n",
    "                s += '零';  \n",
    "        elif (tmp < 10000):  \n",
    "            s += chineseOfNumber[tmp//1000];  \n",
    "            s += '千';  \n",
    "            tmp = tmp%1000;  \n",
    "            if tmp < 100 and tmp > 0:  \n",
    "                s += '零';  \n",
    "        elif (tmp < 100000000):  \n",
    "            s1 = '';  \n",
    "            s += numToChinese(tmp//10000, s1);  \n",
    "            s += '万';  \n",
    "            tmp =tmp%10000;  \n",
    "            if tmp < 1000 and tmp > 0:  \n",
    "                s += '零';  \n",
    "        elif (tmp >= 100000000):  \n",
    "            s1 = '';  \n",
    "            s += numToChinese(tmp//100000000, s1);  \n",
    "            s += '亿';  \n",
    "            tmp = tmp%100000000;  \n",
    "            if tmp < 10000000 and tmp > 0:  \n",
    "                s += '零';  \n",
    "        else:  \n",
    "            pass;  \n",
    "    return s;"
   ]
  },
  {
   "cell_type": "code",
   "execution_count": 5,
   "metadata": {
    "collapsed": false
   },
   "outputs": [
    {
     "name": "stdout",
     "output_type": "stream",
     "text": [
      "1 读作 一\n",
      "12 读作 一十二\n",
      "135 读作 一百三十五\n",
      "1568 读作 一千五百六十八\n",
      "10825 读作 一万零八百二十五\n",
      "162543 读作 一十六万二千五百四十三\n"
     ]
    }
   ],
   "source": [
    "num = [1, 12, 135, 1568, 10825, 162543];\n",
    "\n",
    "for i in range(len(num)):  \n",
    "    print('{0} 读作 {1}'.format(num[i], ''+numToChinese(num[i], '')));"
   ]
  },
  {
   "cell_type": "code",
   "execution_count": 6,
   "metadata": {
    "collapsed": false
   },
   "outputs": [
    {
     "name": "stdout",
     "output_type": "stream",
     "text": [
      "一一得一 一二得二 一三得三 一四得四 一五得五 一六得六 \n",
      "\n",
      "二一得二 二二得四 二三得六 二四得八 二五一十 二六一十二 \n",
      "\n",
      "三一得三 三二得六 三三得九 三四一十二 三五一十五 三六一十八 \n",
      "\n",
      "四一得四 四二得八 四三一十二 四四一十六 四五二十 四六二十四 \n",
      "\n",
      "五一得五 五二一十 五三一十五 五四二十 五五二十五 五六三十 \n",
      "\n",
      "六一得六 六二一十二 六三一十八 六四二十四 六五三十 六六三十六 \n",
      "\n"
     ]
    }
   ],
   "source": [
    "#表内乘法口诀（一）  \n",
    "def multiplication():  \n",
    "    for i in range(1, 7):  \n",
    "        for j in range(1, 7):  \n",
    "            result = i * j;  \n",
    "            if (result < 10):  \n",
    "                s = '' + numToChinese(i, '')+numToChinese(j, '')+'得'+ numToChinese(result, '');  \n",
    "                print(s, end=' ');  \n",
    "            else:  \n",
    "                s = '' + numToChinese(i, '')+numToChinese(j, '')+ numToChinese(result, '')  \n",
    "                print(s, end=' ');  \n",
    "        print('\\n');  \n",
    "    return;  \n",
    "\n",
    "multiplication()"
   ]
  },
  {
   "cell_type": "code",
   "execution_count": 7,
   "metadata": {
    "collapsed": false
   },
   "outputs": [
    {
     "name": "stdout",
     "output_type": "stream",
     "text": [
      "1只青蛙1张嘴，2只眼睛4条腿。\n",
      "2只青蛙2张嘴，4只眼睛8条腿。\n",
      "3只青蛙3张嘴，6只眼睛12条腿。\n",
      "4只青蛙4张嘴，8只眼睛16条腿。\n",
      "5只青蛙5张嘴，10只眼睛20条腿。\n",
      "6只青蛙6张嘴，12只眼睛24条腿。\n",
      "7只青蛙7张嘴，14只眼睛28条腿。\n",
      "8只青蛙8张嘴，16只眼睛32条腿。\n",
      "9只青蛙9张嘴，18只眼睛36条腿。\n"
     ]
    }
   ],
   "source": [
    "def tmp():  \n",
    "    for i in range(1, 10):  \n",
    "       print('{0}只青蛙{1}张嘴，{2}只眼睛{3}条腿。'.format(i, i, 2*i, 4*i));  \n",
    "    return\n",
    "tmp()"
   ]
  },
  {
   "cell_type": "code",
   "execution_count": 9,
   "metadata": {
    "collapsed": false
   },
   "outputs": [
    {
     "name": "stdout",
     "output_type": "stream",
     "text": [
      "一一得一 \n",
      "\n",
      "一二得二 二二得四 \n",
      "\n",
      "一三得三 二三得六 三三得九 \n",
      "\n",
      "一四得四 二四得八 三四一十二 四四一十六 \n",
      "\n",
      "一五得五 二五一十 三五一十五 四五二十 五五二十五 \n",
      "\n",
      "一六得六 二六一十二 三六一十八 四六二十四 五六三十 六六三十六 \n",
      "\n"
     ]
    }
   ],
   "source": [
    "#表内乘法口诀（一）  \n",
    "def multiplication():  \n",
    "    for j in range(1, 7):  \n",
    "        for i in range(1, 7):  \n",
    "            if (i > j):  \n",
    "                continue;  \n",
    "            result = i * j;  \n",
    "            if (result < 10):  \n",
    "                s = '' + numToChinese(i, '')+numToChinese(j, '')+'得'+numToChinese(result, '');  \n",
    "                print(s, end=' ');  \n",
    "            else:  \n",
    "                s = '' + numToChinese(i, '')+numToChinese(j, '')+numToChinese(result, '')  \n",
    "                print(s, end=' ');  \n",
    "        print('\\n');  \n",
    "    return\n",
    "\n",
    "multiplication()"
   ]
  },
  {
   "cell_type": "code",
   "execution_count": null,
   "metadata": {
    "collapsed": true
   },
   "outputs": [],
   "source": []
  }
 ],
 "metadata": {
  "kernelspec": {
   "display_name": "Python 3",
   "language": "python",
   "name": "python3"
  },
  "language_info": {
   "codemirror_mode": {
    "name": "ipython",
    "version": 3
   },
   "file_extension": ".py",
   "mimetype": "text/x-python",
   "name": "python",
   "nbconvert_exporter": "python",
   "pygments_lexer": "ipython3",
   "version": "3.5.2"
  }
 },
 "nbformat": 4,
 "nbformat_minor": 0
}
