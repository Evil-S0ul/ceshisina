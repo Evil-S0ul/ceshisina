{
 "cells": [
  {
   "cell_type": "code",
   "execution_count": 1,
   "metadata": {
    "collapsed": false
   },
   "outputs": [
    {
     "name": "stdout",
     "output_type": "stream",
     "text": [
      "一只孤独的细菌来到了一片陌生的土地。\n",
      "经过了1分钟，细菌变成了2只。\n",
      "经过了2分钟，细菌变成了4只。\n",
      "经过了3分钟，细菌变成了8只。\n",
      "经过了4分钟，细菌变成了16只。\n",
      "经过了5分钟，细菌变成了32只。\n",
      "经过了6分钟，细菌变成了64只。\n",
      "经过了7分钟，细菌变成了128只。\n",
      "经过了8分钟，细菌变成了256只。\n",
      "经过了9分钟，细菌变成了512只。\n"
     ]
    }
   ],
   "source": [
    "def tmp():  \n",
    "    bacteria = 1;  \n",
    "    print('一只孤独的细菌来到了一片陌生的土地。');  \n",
    "    for i in range(1,10):  \n",
    "        bacteria *= 2;  \n",
    "        print('经过了{0}分钟，细菌变成了{1}只。'.format(i, bacteria));  \n",
    "  \n",
    "    return;  \n",
    "\n",
    "tmp()"
   ]
  },
  {
   "cell_type": "code",
   "execution_count": 2,
   "metadata": {
    "collapsed": false
   },
   "outputs": [
    {
     "name": "stdout",
     "output_type": "stream",
     "text": [
      "熊妈妈的玉米是19个\n"
     ]
    }
   ],
   "source": [
    "def tmp2():  \n",
    "    for i in range(1000):  \n",
    "        if (i-3) == 2 * (5+3):  \n",
    "            print('熊妈妈的玉米是{0}个'.format(i));  \n",
    "            break;  \n",
    "  \n",
    "    return;\n",
    "\n",
    "tmp2()"
   ]
  },
  {
   "cell_type": "code",
   "execution_count": null,
   "metadata": {
    "collapsed": true
   },
   "outputs": [],
   "source": []
  }
 ],
 "metadata": {
  "kernelspec": {
   "display_name": "Python 3",
   "language": "python",
   "name": "python3"
  },
  "language_info": {
   "codemirror_mode": {
    "name": "ipython",
    "version": 3
   },
   "file_extension": ".py",
   "mimetype": "text/x-python",
   "name": "python",
   "nbconvert_exporter": "python",
   "pygments_lexer": "ipython3",
   "version": "3.5.2"
  }
 },
 "nbformat": 4,
 "nbformat_minor": 0
}
