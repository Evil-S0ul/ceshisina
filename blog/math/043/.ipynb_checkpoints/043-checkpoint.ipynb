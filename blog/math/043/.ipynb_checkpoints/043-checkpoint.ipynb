{
 "cells": [
  {
   "cell_type": "code",
   "execution_count": 3,
   "metadata": {
    "collapsed": false
   },
   "outputs": [
    {
     "name": "stdout",
     "output_type": "stream",
     "text": [
      "7×8+6 = 62, \n",
      "\n",
      "20×3+98 = 158, \n",
      "\n",
      "2000×4+1980 = 9980, \n",
      "\n",
      "4×6+6 = 30, \n",
      "\n",
      "70×9-120 = 510, \n",
      "\n",
      "(406-385)×3 = 63, \n",
      "\n"
     ]
    }
   ],
   "source": [
    "def calc():  \n",
    "    fin = open('input.txt');  \n",
    "    fout= open('output.txt', 'a');  \n",
    "    for line in fin.readlines():  \n",
    "        if line[-1] == '\\n':  \n",
    "            line = line[:-1];       \n",
    "              \n",
    "        if line == '':  \n",
    "            continue;  \n",
    "        elif line.startswith('#'):  \n",
    "            print(line);  \n",
    "            fout.write(line+'\\n');  \n",
    "        else:  \n",
    "            lines = line.split(sep=' ');  \n",
    "            for i in range(len(lines)):  \n",
    "                if lines[i]=='':  \n",
    "                    continue;  \n",
    "                result = eval(lines[i]);  \n",
    "                lines[i] = lines[i].replace('*','×');  \n",
    "                lines[i] = lines[i].replace('//', '÷');  \n",
    "                s = '{0} = {1}'.format(lines[i], result);  \n",
    "                print(s, end=', ');  \n",
    "                fout.write(s + ', ');  \n",
    "            print('\\n');  \n",
    "            fout.write('\\n');  \n",
    "    fout.close();  \n",
    "    fin.close();\n",
    "    \n",
    "calc()"
   ]
  },
  {
   "cell_type": "code",
   "execution_count": 4,
   "metadata": {
    "collapsed": false
   },
   "outputs": [
    {
     "name": "stdout",
     "output_type": "stream",
     "text": [
      "99 × 1 = 99\n",
      "99 × 2 = 198\n",
      "99 × 3 = 297\n",
      "99 × 4 = 396\n",
      "99 × 5 = 495\n",
      "99 × 6 = 594\n",
      "99 × 7 = 693\n",
      "99 × 8 = 792\n",
      "99 × 9 = 891\n"
     ]
    }
   ],
   "source": [
    "def tmp():  \n",
    "    for i in range(1, 10):  \n",
    "        print('99 × {0} = {1}'.format(i, 99*i));  \n",
    "    return  \n",
    "\n",
    "tmp()"
   ]
  },
  {
   "cell_type": "code",
   "execution_count": 5,
   "metadata": {
    "collapsed": false
   },
   "outputs": [
    {
     "name": "stdout",
     "output_type": "stream",
     "text": [
      "99 × 1 = 99\n",
      "这个数和0×100 + 9×10 + 9×1相等。\n",
      "99 × 2 = 198\n",
      "这个数和1×100 + 9×10 + 8×1相等。\n",
      "99 × 3 = 297\n",
      "这个数和2×100 + 9×10 + 7×1相等。\n",
      "99 × 4 = 396\n",
      "这个数和3×100 + 9×10 + 6×1相等。\n",
      "99 × 5 = 495\n",
      "这个数和4×100 + 9×10 + 5×1相等。\n",
      "99 × 6 = 594\n",
      "这个数和5×100 + 9×10 + 4×1相等。\n",
      "99 × 7 = 693\n",
      "这个数和6×100 + 9×10 + 3×1相等。\n",
      "99 × 8 = 792\n",
      "这个数和7×100 + 9×10 + 2×1相等。\n",
      "99 × 9 = 891\n",
      "这个数和8×100 + 9×10 + 1×1相等。\n"
     ]
    }
   ],
   "source": [
    "def tmp():  \n",
    "    for i in range(1, 10):  \n",
    "        print('99 × {0} = {1}'.format(i, 99*i));  \n",
    "        print('这个数和{0}×100 + 9×10 + {1}×1相等。'.format(i-1, 10-i));  \n",
    "    return\n",
    "\n",
    "tmp()"
   ]
  },
  {
   "cell_type": "code",
   "execution_count": 6,
   "metadata": {
    "collapsed": false
   },
   "outputs": [
    {
     "name": "stdout",
     "output_type": "stream",
     "text": [
      "0×9+1=1\n",
      "1×9+2=11\n",
      "12×9+3=111\n",
      "123×9+4=1111\n",
      "1234×9+5=11111\n",
      "12345×9+6=111111\n",
      "123456×9+7=1111111\n",
      "1234567×9+8=11111111\n",
      "12345678×9+9=111111111\n",
      "123456789×9+10=1111111111\n"
     ]
    }
   ],
   "source": [
    "def tmp():  \n",
    "    a = 0;  \n",
    "    b = 0;  \n",
    "  \n",
    "    for i in range(10):  \n",
    "        a = a * 10 + i;  \n",
    "        b = a * 9 + i+1;  \n",
    "        print('{0}×9+{1}={2}'.format(a, i+1, b));  \n",
    "    return\n",
    "\n",
    "tmp()"
   ]
  },
  {
   "cell_type": "code",
   "execution_count": 7,
   "metadata": {
    "collapsed": false
   },
   "outputs": [
    {
     "ename": "NameError",
     "evalue": "name 'chineseToNumber' is not defined",
     "output_type": "error",
     "traceback": [
      "\u001b[0;31m---------------------------------------------------------------------------\u001b[0m",
      "\u001b[0;31mNameError\u001b[0m                                 Traceback (most recent call last)",
      "\u001b[0;32m<ipython-input-7-9141d19c4f4b>\u001b[0m in \u001b[0;36m<module>\u001b[0;34m()\u001b[0m\n\u001b[1;32m     38\u001b[0m \u001b[0;32mif\u001b[0m \u001b[0m__name__\u001b[0m \u001b[0;34m==\u001b[0m \u001b[0;34m'__main__'\u001b[0m\u001b[0;34m:\u001b[0m\u001b[0;34m\u001b[0m\u001b[0m\n\u001b[1;32m     39\u001b[0m     \u001b[0ma\u001b[0m \u001b[0;34m=\u001b[0m \u001b[0mCode\u001b[0m\u001b[0;34m(\u001b[0m\u001b[0;34m)\u001b[0m\u001b[0;34m;\u001b[0m\u001b[0;34m\u001b[0m\u001b[0m\n\u001b[0;32m---> 40\u001b[0;31m     \u001b[0ma\u001b[0m\u001b[0;34m.\u001b[0m\u001b[0mgenCode\u001b[0m\u001b[0;34m(\u001b[0m\u001b[0;34m[\u001b[0m\u001b[0;34m'丁小琪'\u001b[0m\u001b[0;34m,\u001b[0m \u001b[0;34m'四'\u001b[0m\u001b[0;34m,\u001b[0m \u001b[0;36m3\u001b[0m\u001b[0;34m,\u001b[0m \u001b[0;34m'女'\u001b[0m\u001b[0;34m,\u001b[0m \u001b[0;36m2009\u001b[0m\u001b[0;34m,\u001b[0m \u001b[0;34m'28'\u001b[0m\u001b[0;34m]\u001b[0m\u001b[0;34m)\u001b[0m\u001b[0;34m;\u001b[0m\u001b[0;34m\u001b[0m\u001b[0m\n\u001b[0m\u001b[1;32m     41\u001b[0m     \u001b[0ma\u001b[0m\u001b[0;34m.\u001b[0m\u001b[0mgenCode\u001b[0m\u001b[0;34m(\u001b[0m\u001b[0;34m[\u001b[0m\u001b[0;34m'王奕飞'\u001b[0m\u001b[0;34m,\u001b[0m \u001b[0;34m'三'\u001b[0m\u001b[0;34m,\u001b[0m \u001b[0;36m1\u001b[0m\u001b[0;34m,\u001b[0m \u001b[0;34m'男'\u001b[0m\u001b[0;34m,\u001b[0m \u001b[0;36m2010\u001b[0m\u001b[0;34m,\u001b[0m \u001b[0;34m'01'\u001b[0m\u001b[0;34m]\u001b[0m\u001b[0;34m)\u001b[0m\u001b[0;34m;\u001b[0m\u001b[0;34m\u001b[0m\u001b[0m\n\u001b[1;32m     42\u001b[0m     \u001b[0ma\u001b[0m\u001b[0;34m.\u001b[0m\u001b[0mshow\u001b[0m\u001b[0;34m(\u001b[0m\u001b[0;34m)\u001b[0m\u001b[0;34m\u001b[0m\u001b[0m\n",
      "\u001b[0;32m<ipython-input-7-9141d19c4f4b>\u001b[0m in \u001b[0;36mgenCode\u001b[0;34m(self, info)\u001b[0m\n\u001b[1;32m     18\u001b[0m \u001b[0;34m\u001b[0m\u001b[0m\n\u001b[1;32m     19\u001b[0m         \u001b[0ms\u001b[0m \u001b[0;34m+=\u001b[0m \u001b[0mstr\u001b[0m\u001b[0;34m(\u001b[0m\u001b[0minfo\u001b[0m\u001b[0;34m[\u001b[0m\u001b[0;36m4\u001b[0m\u001b[0;34m]\u001b[0m\u001b[0;34m)\u001b[0m\u001b[0;34m;\u001b[0m\u001b[0;34m\u001b[0m\u001b[0m\n\u001b[0;32m---> 20\u001b[0;31m         \u001b[0ma\u001b[0m \u001b[0;34m=\u001b[0m \u001b[0mchineseToNumber\u001b[0m\u001b[0;34m(\u001b[0m\u001b[0minfo\u001b[0m\u001b[0;34m[\u001b[0m\u001b[0;36m1\u001b[0m\u001b[0;34m]\u001b[0m\u001b[0;34m)\u001b[0m\u001b[0;34m;\u001b[0m\u001b[0;34m\u001b[0m\u001b[0m\n\u001b[0m\u001b[1;32m     21\u001b[0m         \u001b[0;32mif\u001b[0m \u001b[0ma\u001b[0m \u001b[0;34m<\u001b[0m \u001b[0;36m10\u001b[0m\u001b[0;34m:\u001b[0m\u001b[0;34m\u001b[0m\u001b[0m\n\u001b[1;32m     22\u001b[0m             \u001b[0ms\u001b[0m\u001b[0;34m+=\u001b[0m\u001b[0;34m'0'\u001b[0m\u001b[0;34m;\u001b[0m\u001b[0;34m\u001b[0m\u001b[0m\n",
      "\u001b[0;31mNameError\u001b[0m: name 'chineseToNumber' is not defined"
     ]
    }
   ],
   "source": [
    "class Code():  \n",
    "    def __init__(self):  \n",
    "        self.array = [];  \n",
    "  \n",
    "    def put(self, info):  \n",
    "        #info样式  \n",
    "        #['丁小琪', '四', 3, '女', 2009, '28']  \n",
    "        #['王奕飞', '三', 1, '男', 2010, '01']  \n",
    "        self.array.append(info);          \n",
    "  \n",
    "    def show(self):  \n",
    "        for i in range(len(self.array)):  \n",
    "            print(self.array[i]);  \n",
    "              \n",
    "    def genCode(self, info):  \n",
    "        s = '';  \n",
    "        a = 0;  \n",
    "           \n",
    "        s += str(info[4]);  \n",
    "        a = chineseToNumber(info[1]);  # chineseToNumber 之前的函数\n",
    "        if a < 10:  \n",
    "            s+='0';  \n",
    "        s+=str(a);  \n",
    "        if info[2] < 10:  \n",
    "            s+='0';  \n",
    "        s+=str(info[2]);  \n",
    "        s+=info[-1];  \n",
    "        if (info[3] == '女'):                  \n",
    "            s+='2';  \n",
    "        else:  \n",
    "            s+='1';  \n",
    "              \n",
    "        print('{0}的学号是{1}'.format(info[0], s));  \n",
    "        info.append(s);  \n",
    "        self.put(info);  \n",
    "                \n",
    "                \n",
    "if __name__ == '__main__':  \n",
    "    a = Code();  \n",
    "    a.genCode(['丁小琪', '四', 3, '女', 2009, '28']);  \n",
    "    a.genCode(['王奕飞', '三', 1, '男', 2010, '01']);  \n",
    "    a.show()"
   ]
  },
  {
   "cell_type": "code",
   "execution_count": null,
   "metadata": {
    "collapsed": true
   },
   "outputs": [],
   "source": []
  }
 ],
 "metadata": {
  "kernelspec": {
   "display_name": "Python 3",
   "language": "python",
   "name": "python3"
  },
  "language_info": {
   "codemirror_mode": {
    "name": "ipython",
    "version": 3
   },
   "file_extension": ".py",
   "mimetype": "text/x-python",
   "name": "python",
   "nbconvert_exporter": "python",
   "pygments_lexer": "ipython3",
   "version": "3.5.2"
  }
 },
 "nbformat": 4,
 "nbformat_minor": 0
}
