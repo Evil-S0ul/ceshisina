{
 "cells": [
  {
   "cell_type": "code",
   "execution_count": 1,
   "metadata": {
    "collapsed": true
   },
   "outputs": [],
   "source": [
    "#第12节 20以内的退位减法\n",
    "\n",
    "def subExpr():  \n",
    "    for i in range(11, 19):  \n",
    "        for j in range(1, 10):  \n",
    "            j1 = 10-j;  \n",
    "            if i-10 < j1:  \n",
    "                print('{0:>2}-{1:>2}={2:>2}'.format(i, j1, i-j1), end=', ');  \n",
    "        print('\\n');  \n",
    "    return;"
   ]
  },
  {
   "cell_type": "code",
   "execution_count": 2,
   "metadata": {
    "collapsed": false
   },
   "outputs": [
    {
     "name": "stdout",
     "output_type": "stream",
     "text": [
      "11- 9= 2, 11- 8= 3, 11- 7= 4, 11- 6= 5, 11- 5= 6, 11- 4= 7, 11- 3= 8, 11- 2= 9, \n",
      "\n",
      "12- 9= 3, 12- 8= 4, 12- 7= 5, 12- 6= 6, 12- 5= 7, 12- 4= 8, 12- 3= 9, \n",
      "\n",
      "13- 9= 4, 13- 8= 5, 13- 7= 6, 13- 6= 7, 13- 5= 8, 13- 4= 9, \n",
      "\n",
      "14- 9= 5, 14- 8= 6, 14- 7= 7, 14- 6= 8, 14- 5= 9, \n",
      "\n",
      "15- 9= 6, 15- 8= 7, 15- 7= 8, 15- 6= 9, \n",
      "\n",
      "16- 9= 7, 16- 8= 8, 16- 7= 9, \n",
      "\n",
      "17- 9= 8, 17- 8= 9, \n",
      "\n",
      "18- 9= 9, \n",
      "\n"
     ]
    }
   ],
   "source": [
    "subExpr()"
   ]
  },
  {
   "cell_type": "code",
   "execution_count": null,
   "metadata": {
    "collapsed": true
   },
   "outputs": [],
   "source": []
  }
 ],
 "metadata": {
  "kernelspec": {
   "display_name": "Python 3",
   "language": "python",
   "name": "python3"
  },
  "language_info": {
   "codemirror_mode": {
    "name": "ipython",
    "version": 3
   },
   "file_extension": ".py",
   "mimetype": "text/x-python",
   "name": "python",
   "nbconvert_exporter": "python",
   "pygments_lexer": "ipython3",
   "version": "3.5.2"
  }
 },
 "nbformat": 4,
 "nbformat_minor": 0
}
