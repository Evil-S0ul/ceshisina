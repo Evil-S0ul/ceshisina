{
 "cells": [
  {
   "cell_type": "code",
   "execution_count": 1,
   "metadata": {
    "collapsed": false
   },
   "outputs": [
    {
     "name": "stdout",
     "output_type": "stream",
     "text": [
      "符合要求的两位数有：[10, 13, 15, 30, 31, 35, 50, 51, 53]， 一共有9个。\n"
     ]
    }
   ],
   "source": [
    "#第55节 数学广角──搭配（二）\n",
    "\n",
    "def tmp():  \n",
    "    a = [0, 1, 3, 5];  \n",
    "    setA = set([]);  \n",
    "    for i in range(len(a)):  \n",
    "        for j in range(len(a)):  \n",
    "            if i == j:  \n",
    "                continue;  \n",
    "              \n",
    "            num = 10 * a[i] + a[j];  \n",
    "            if (num > 9):  \n",
    "                setA.add(num);  \n",
    "    listA = list(setA);  \n",
    "    listA.sort();  \n",
    "    print('符合要求的两位数有：{0}， 一共有{1}个。'.format(listA, len(listA)));\n",
    "    \n",
    "tmp()    "
   ]
  },
  {
   "cell_type": "code",
   "execution_count": 2,
   "metadata": {
    "collapsed": false
   },
   "outputs": [
    {
     "name": "stdout",
     "output_type": "stream",
     "text": [
      "符合要求的两位数有：[20, 24, 26, 40, 42, 46, 60, 62, 64]， 一共有9个。\n"
     ]
    }
   ],
   "source": [
    "def tmp():  \n",
    "    a = [0, 2, 4, 6];  \n",
    "    setA = set([]);  \n",
    "    for i in range(len(a)):  \n",
    "        for j in range(len(a)):  \n",
    "            if i == j:  \n",
    "                continue;  \n",
    "              \n",
    "            num = 10 * a[i] + a[j];  \n",
    "            if (num > 9):  \n",
    "                setA.add(num);  \n",
    "    listA = list(setA);  \n",
    "    listA.sort();  \n",
    "    print('符合要求的两位数有：{0}， 一共有{1}个。'.format(listA, len(listA)));\n",
    "    \n",
    "tmp()     "
   ]
  },
  {
   "cell_type": "code",
   "execution_count": 3,
   "metadata": {
    "collapsed": false
   },
   "outputs": [
    {
     "name": "stdout",
     "output_type": "stream",
     "text": [
      "1 -- 1 -- 3\n",
      "1 -- 2 -- 2\n",
      "1 -- 3 -- 1\n",
      "2 -- 1 -- 2\n",
      "2 -- 2 -- 1\n",
      "3 -- 1 -- 1\n",
      "一共有6种分法。\n"
     ]
    }
   ],
   "source": [
    "def tmp():  \n",
    "    a = [1, 2, 3, 4, 5];  \n",
    "    count = 0;  \n",
    "  \n",
    "    for i in range(1, 6):  \n",
    "        for j in range(1, 6):  \n",
    "            for k in range(1, 6):  \n",
    "                if i + j + k == 5:  \n",
    "                    count += 1;  \n",
    "                    print('{0} -- {1} -- {2}'.format(i, j, k));  \n",
    "    print('一共有{0}种分法。'.format(count));\n",
    "    \n",
    "tmp()         "
   ]
  },
  {
   "cell_type": "code",
   "execution_count": 5,
   "metadata": {
    "collapsed": false
   },
   "outputs": [
    {
     "name": "stdout",
     "output_type": "stream",
     "text": [
      "符合要求的两位数有：[25, 27, 29, 57, 59, 75, 79, 95, 97]， 一共有9个。\n"
     ]
    }
   ],
   "source": [
    "def tmp():  \n",
    "    a = [2,5,7,9];  \n",
    "    setA = set([]);  \n",
    "    for i in range(len(a)):  \n",
    "        for j in range(len(a)):  \n",
    "            if i == j or a[j] % 2 == 0:  \n",
    "                continue;  \n",
    "              \n",
    "            num = 10 * a[i] + a[j];  \n",
    "            if (num > 9):  \n",
    "                setA.add(num);  \n",
    "    listA = list(setA);  \n",
    "    listA.sort();  \n",
    "    print('符合要求的两位数有：{0}， 一共有{1}个。'.format(listA, len(listA)));\n",
    "    \n",
    "\n",
    "tmp()"
   ]
  },
  {
   "cell_type": "code",
   "execution_count": 6,
   "metadata": {
    "collapsed": false
   },
   "outputs": [
    {
     "name": "stdout",
     "output_type": "stream",
     "text": [
      "符合要求的数有[100, 111, 122, 133, 144, 155, 166, 177, 188, 199, 200, 211, 222, 233, 244, 255, 266, 277, 288, 299, 300]， 共有21个。\n"
     ]
    }
   ],
   "source": [
    "def tmp():  \n",
    "    setA = set([]);  \n",
    "      \n",
    "    for i in range(100, 301):  \n",
    "        bit = i % 10;  \n",
    "        tenBit = i//10%10;  \n",
    "  \n",
    "        if bit == tenBit:  \n",
    "            setA.add(i);  \n",
    "  \n",
    "    listA = list(setA);  \n",
    "    listA.sort();  \n",
    "\n",
    "    print('符合要求的数有{0}， 共有{1}个。'.format(listA, len(listA)));\n",
    "    \n",
    "tmp()    "
   ]
  },
  {
   "cell_type": "markdown",
   "metadata": {
    "collapsed": true
   },
   "source": []
  }
 ],
 "metadata": {
  "kernelspec": {
   "display_name": "Python 3",
   "language": "python",
   "name": "python3"
  },
  "language_info": {
   "codemirror_mode": {
    "name": "ipython",
    "version": 3
   },
   "file_extension": ".py",
   "mimetype": "text/x-python",
   "name": "python",
   "nbconvert_exporter": "python",
   "pygments_lexer": "ipython3",
   "version": "3.5.2"
  }
 },
 "nbformat": 4,
 "nbformat_minor": 0
}
