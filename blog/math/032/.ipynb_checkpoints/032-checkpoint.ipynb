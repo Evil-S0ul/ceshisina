{
 "cells": [
  {
   "cell_type": "code",
   "execution_count": 7,
   "metadata": {
    "collapsed": true
   },
   "outputs": [],
   "source": [
    "#第32节 混合运算\n",
    "###  \n",
    "# @usage   混合运算  \n",
    "# @author  mw  \n",
    "# @date    2016年01月06日  星期三  09:33:22   \n",
    "# @param  \n",
    "# @return  \n",
    "#  \n",
    "###  \n",
    "def calc():  \n",
    "    fin = open('input.txt');  \n",
    "    fout= open('output.txt', 'a');  \n",
    "    for line in fin.readlines():  \n",
    "        if line[-1] == '\\n':  \n",
    "            line = line[:-1];       \n",
    "              \n",
    "        if line == '':  \n",
    "            continue;  \n",
    "        elif line.startswith('#'):  \n",
    "            print(line);  \n",
    "            fout.write(line+'\\n');  \n",
    "        else:  \n",
    "            lines = line.split(sep=' ');  \n",
    "            for i in range(len(lines)):  \n",
    "                if lines[i]=='':  \n",
    "                    continue;  \n",
    "                result = eval(lines[i]);  \n",
    "                lines[i] = lines[i].replace('*','×');  \n",
    "                lines[i] = lines[i].replace('//', '÷');  \n",
    "                s = '{0} = {1}'.format(lines[i], result);  \n",
    "                print(s, end=' ');  \n",
    "                fout.write(s + ' ');  \n",
    "            print('\\n');  \n",
    "            fout.write('\\n');  \n",
    "    fout.close();  \n",
    "    fin.close();  "
   ]
  },
  {
   "cell_type": "code",
   "execution_count": 9,
   "metadata": {
    "collapsed": false
   },
   "outputs": [
    {
     "name": "stdout",
     "output_type": "stream",
     "text": [
      "53-24+38 = 67 \n",
      "\n"
     ]
    },
    {
     "ename": "SyntaxError",
     "evalue": "unexpected EOF while parsing (<string>, line 1)",
     "output_type": "error",
     "traceback": [
      "\u001b[0;36m  File \u001b[0;32m\"<string>\"\u001b[0;36m, line \u001b[0;32m1\u001b[0m\n\u001b[0;31m    15梅3脳5\u001b[0m\n\u001b[0m         ^\u001b[0m\n\u001b[0;31mSyntaxError\u001b[0m\u001b[0;31m:\u001b[0m unexpected EOF while parsing\n"
     ]
    }
   ],
   "source": [
    "calc()"
   ]
  },
  {
   "cell_type": "code",
   "execution_count": null,
   "metadata": {
    "collapsed": true
   },
   "outputs": [],
   "source": []
  }
 ],
 "metadata": {
  "kernelspec": {
   "display_name": "Python 3",
   "language": "python",
   "name": "python3"
  },
  "language_info": {
   "codemirror_mode": {
    "name": "ipython",
    "version": 3
   },
   "file_extension": ".py",
   "mimetype": "text/x-python",
   "name": "python",
   "nbconvert_exporter": "python",
   "pygments_lexer": "ipython3",
   "version": "3.5.2"
  }
 },
 "nbformat": 4,
 "nbformat_minor": 0
}
