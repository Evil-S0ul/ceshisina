{
 "cells": [
  {
   "cell_type": "code",
   "execution_count": 1,
   "metadata": {
    "collapsed": false
   },
   "outputs": [
    {
     "name": "stdout",
     "output_type": "stream",
     "text": [
      "235 读作 二百三十五\n"
     ]
    }
   ],
   "source": [
    "#第34节 万以内数的认识\n",
    "\n",
    "###  \n",
    "# @usage   数字的中文写法   \n",
    "# @author  mw  \n",
    "# @date    2016年01月08日  星期五  12:37:26   \n",
    "# @param  \n",
    "# @return  \n",
    "#  \n",
    "###  \n",
    "def numberToChinese(num, s):  \n",
    "    chineseOfNumber=['零','一', '二', '三', '四', '五', '六','七', '八', '九', '十','百','千','万','亿'];  \n",
    "    bit = 0;  \n",
    "    tmp = num;  \n",
    "    while (tmp > 0):  \n",
    "        tmp = tmp//10;  \n",
    "        bit+=1;  \n",
    "    tmp = num;  \n",
    "    while (tmp > 0):  \n",
    "        if (tmp < 10):  \n",
    "            s += chineseOfNumber[tmp];  \n",
    "            tmp -= 10;  \n",
    "        elif (tmp < 100):  \n",
    "            s += chineseOfNumber[tmp//10];  \n",
    "            s += '十';  \n",
    "            tmp = tmp%10;   \n",
    "        elif (tmp < 1000):  \n",
    "            s += chineseOfNumber[tmp//100];  \n",
    "            s += '百';  \n",
    "            tmp = tmp%100;  \n",
    "            if tmp < 10 and tmp > 0:  \n",
    "                s += '零';  \n",
    "        elif (tmp < 10000):  \n",
    "            s += chineseOfNumber[tmp//1000];  \n",
    "            s += '千';  \n",
    "            tmp = tmp%1000;  \n",
    "            if tmp < 100 and tmp > 0:  \n",
    "                s += '零';  \n",
    "        elif (tmp < 100000000):  \n",
    "            s1 = '';  \n",
    "            s += numberToChinese(tmp//10000, s1);  \n",
    "            s += '万';  \n",
    "            tmp =tmp%10000;  \n",
    "            if tmp < 1000 and tmp > 0:  \n",
    "                s += '零';  \n",
    "        elif (tmp >= 100000000):  \n",
    "            s1 = '';  \n",
    "            s += numberToChinese(tmp//100000000, s1);  \n",
    "            s += '亿';  \n",
    "            tmp = tmp%100000000;  \n",
    "            if tmp < 10000000 and tmp > 0:  \n",
    "                s += '零';  \n",
    "        else:  \n",
    "            pass;  \n",
    "    return s;  \n",
    "  \n",
    "     \n",
    "if __name__ == '__main__':  \n",
    "    a = 235;  \n",
    "    print('{0} 读作 {1}'.format(a, numberToChinese(a, ''))); "
   ]
  },
  {
   "cell_type": "code",
   "execution_count": 2,
   "metadata": {
    "collapsed": false
   },
   "outputs": [
    {
     "name": "stdout",
     "output_type": "stream",
     "text": [
      "八 8\n",
      "十 10\n",
      "十五 15\n",
      "一十 10\n",
      "二十二 22\n",
      "二百三十五 235\n",
      "一百八十七 187\n",
      "四百 400\n",
      "六百零五 605\n",
      "三百二十 320\n",
      "二百九十 290\n",
      "八百四十六 846\n",
      "八千七百零五 8705\n",
      "八万零八百四十六 80846\n",
      "八万一千八百四十六 81846\n",
      "八十八万一千八百四十六 881846\n",
      "八千万零八百四十六 80000846\n",
      "四万万五千万零八百四十六 450000846\n",
      "四亿零八万零八百四十六 400080846\n",
      "四亿亿五千万 40000000050000000\n"
     ]
    }
   ],
   "source": [
    "###  \n",
    "# @usage   数字的中文写法转化为数字  \n",
    "# @author  mw  \n",
    "# @date    2016年01月08日  星期五  09:19:55   \n",
    "# @param  \n",
    "# @return  \n",
    "#  \n",
    "###  \n",
    "  \n",
    "def chineseToNumber(s):  \n",
    "    chineseOfNumber=['零','一', '二', '三', '四', '五', '六','七', '八', '九', '十','百','千','万','亿'];  \n",
    "    result = 0;  \n",
    "    #每一组两个数，比如九百，一万，都是由一个值数和一个倍数组成。  \n",
    "    #不可能两个以上的值在一块，但可能两个以上的倍数在一块，比如九九不合法，但四百万合法。  \n",
    "      \n",
    "    #合法表达为0，不合法为其它值  \n",
    "    illegal = 0;  \n",
    "    #两个长度  \n",
    "    lengthOfStr = len(s);  \n",
    "    lengthOfChs = len(chineseOfNumber);  \n",
    "    #合法性判断  \n",
    "    for i in range(lengthOfStr):  \n",
    "        if illegal == 1:  \n",
    "            break;  \n",
    "  \n",
    "        for j in range(lengthOfChs):  \n",
    "            if s[i] == chineseOfNumber[j]:  \n",
    "                break;  \n",
    "            else:  \n",
    "                if j >= lengthOfChs-1:  \n",
    "                    print('含有非中文数字的字符，表达式不合法');  \n",
    "                    illegal = 1;  \n",
    "  \n",
    "    for i in range(lengthOfStr-1):  \n",
    "        if illegal == 1:  \n",
    "            break;  \n",
    "        for j in range(10):  \n",
    "            if s[i] == chineseOfNumber[j]:  \n",
    "                if j>0:  \n",
    "                    for k in range(10):  \n",
    "                        if s[i+1] == chineseOfNumber[k]:  \n",
    "                            print('连续两个本数相连而没有倍数，表达式不合法。');  \n",
    "                            illegal = 1;  \n",
    "                            break;  \n",
    "                #当这个数是零时，它后面跟零或倍数都不合法  \n",
    "                else:  \n",
    "                    if s[i+1] == chineseOfNumber[0]:  \n",
    "                        print('连续两个零相连，表达式不合法。');  \n",
    "                        illegal = 1;  \n",
    "                        break;  \n",
    "                      \n",
    "                    for k in range(10, lengthOfChs):  \n",
    "                        if s[i+1] == chineseOfNumber[k]:  \n",
    "                            print('零后面跟上倍数，表达式不合法。');  \n",
    "                            illegal = 1;  \n",
    "                            break;  \n",
    "                      \n",
    "      \n",
    "    for i in range(lengthOfStr-1):  \n",
    "        if illegal == 1:  \n",
    "            if (i > 0):  \n",
    "                print('表达式的倍数排序不符合规范，不合法。');  \n",
    "            break;                      \n",
    "     \n",
    "        if s[i] == '十':  \n",
    "            if s[i+1] == '十' or s[i+1] == '百' or s[i+1] == '千':  \n",
    "                illegal = 1;  \n",
    "        elif s[i] == '百':  \n",
    "            if s[i+1] == '十' or s[i+1] == '百' or s[i+1] == '千':  \n",
    "                illegal = 1;  \n",
    "        elif s[i] == '千':  \n",
    "            if s[i+1] == '十' or s[i+1] == '百' or s[i+1] == '千':  \n",
    "                illegal = 1;  \n",
    "        elif s[i] == '万':  \n",
    "            if s[i+1] == '十' or s[i+1] == '百' or s[i+1] == '千':  \n",
    "                illegal = 1;  \n",
    "        elif s[i] == '亿':  \n",
    "            if s[i+1] == '十' or s[i+1] == '百' or s[i+1] == '千' or s[i+1] == '万':  \n",
    "                illegal = 1;  \n",
    "        else:  \n",
    "            pass;  \n",
    "  \n",
    "    #合法则计算        \n",
    "    if illegal!=0:  \n",
    "        print('输入不合法。');  \n",
    "    else:  \n",
    "        value = 0;  \n",
    "        multiple = 1;  \n",
    "        result = 0;  \n",
    "        yiPart = 0;  \n",
    "        wanPart = 0;  \n",
    "        littlePart = 0;  \n",
    "        for i in range(lengthOfStr):  \n",
    "            if s[i] == '亿':  \n",
    "                result += value+wanPart+yiPart;  \n",
    "                multiple = 100000000;  \n",
    "                value = result;  \n",
    "                result = value*multiple;  \n",
    "                if (i < lengthOfStr-1 and s[i+1] == '亿'):  \n",
    "                    value = 0;  \n",
    "                else:  \n",
    "                    yiPart = result;  \n",
    "                    result = 0;  \n",
    "                multiple = 1;  \n",
    "            elif s[i] == '万':  \n",
    "                result += value+wanPart;  \n",
    "                multiple = 10000;  \n",
    "                value = result;  \n",
    "                result = value*multiple;  \n",
    "                if (i < lengthOfStr-1 and (s[i+1] == '亿' or s[i+1] == '万')):  \n",
    "                    value = 0;  \n",
    "                else:  \n",
    "                    if (result > 100000000):  \n",
    "                        yiPart = result;  \n",
    "                    else:  \n",
    "                        wanPart = result;  \n",
    "                    result = 0;  \n",
    "                multiple = 1;  \n",
    "            elif s[i] == '千':  \n",
    "                multiple = 1000;  \n",
    "                result += value*multiple;  \n",
    "                if (i < lengthOfStr-1 and (s[i+1] == '亿' or s[i+1] == '万')):  \n",
    "                    value = 0;  \n",
    "                multiple = 1;  \n",
    "            elif s[i] == '百':  \n",
    "                multiple = 100;  \n",
    "                result += value*multiple;  \n",
    "                if (i < lengthOfStr-1 and (s[i+1] == '亿' or s[i+1] == '万')):  \n",
    "                    value = 0;  \n",
    "                multiple = 1;  \n",
    "            #十这个数字，即可以作为本数，也可以作为倍数  \n",
    "            elif s[i] == '十':  \n",
    "                if value == 0:  \n",
    "                    value = 10;  \n",
    "                    multiple = 1;  \n",
    "                    result += value*multiple;  \n",
    "                else:  \n",
    "                    multiple = 10;  \n",
    "                    result += value*multiple;  \n",
    "                    if (i < lengthOfStr-1 and (s[i+1] == '亿' or s[i+1] == '万')):  \n",
    "                        value = result;  \n",
    "                    else:  \n",
    "                        value = 0;  \n",
    "                    multiple = 1;  \n",
    "            else:  \n",
    "                for j in range(10):  \n",
    "                    if s[i] == chineseOfNumber[j]:  \n",
    "                        value = j;  \n",
    "                        multiple = 1;  \n",
    "                if i >= lengthOfStr-1:  \n",
    "                    result += value * multiple;  \n",
    "  \n",
    "        result += wanPart + yiPart;  \n",
    "    print('{0} {1}'.format(s, result));  \n",
    "              \n",
    "  \n",
    "  \n",
    "if __name__ == '__main__':  \n",
    "    chineseToNumber('八');  \n",
    "    chineseToNumber('十');  \n",
    "    chineseToNumber('十五');  \n",
    "    chineseToNumber('一十');  \n",
    "    chineseToNumber('二十二');  \n",
    "    chineseToNumber('二百三十五');  \n",
    "    chineseToNumber('一百八十七');  \n",
    "    chineseToNumber('四百');  \n",
    "    chineseToNumber('六百零五');  \n",
    "    chineseToNumber('三百二十');  \n",
    "    chineseToNumber('二百九十');  \n",
    "    chineseToNumber('八百四十六');  \n",
    "    chineseToNumber('八千七百零五');  \n",
    "    chineseToNumber('八万零八百四十六');  \n",
    "    chineseToNumber('八万一千八百四十六');  \n",
    "    chineseToNumber('八十八万一千八百四十六');  \n",
    "    chineseToNumber('八千万零八百四十六');  \n",
    "    chineseToNumber('四万万五千万零八百四十六');  \n",
    "    chineseToNumber('四亿零八万零八百四十六');  \n",
    "    chineseToNumber('四亿亿五千万');"
   ]
  },
  {
   "cell_type": "code",
   "execution_count": 3,
   "metadata": {
    "collapsed": false
   },
   "outputs": [
    {
     "name": "stdout",
     "output_type": "stream",
     "text": [
      "3745 读作 三千七百四十五\n",
      "2080 读作 二千零八十\n",
      "6009 读作 六千零九\n"
     ]
    }
   ],
   "source": [
    "if __name__ == '__main__':  \n",
    "    a = [3745, 2080, 6009];  \n",
    "    for i in range(len(a)):  \n",
    "        print('{0} 读作 {1}'.format(a[i], numberToChinese(a[i], '')));"
   ]
  },
  {
   "cell_type": "code",
   "execution_count": 4,
   "metadata": {
    "collapsed": false
   },
   "outputs": [
    {
     "name": "stdout",
     "output_type": "stream",
     "text": [
      "7438 读作 七千四百三十八\n",
      "3604 读作 三千六百零四\n",
      "4900 读作 四千九百\n",
      "5002 读作 五千零二\n",
      "1050 读作 一千零五十\n",
      "560 读作 五百六十\n",
      "366 读作 三百六十六\n",
      "2540 读作 二千五百四十\n"
     ]
    }
   ],
   "source": [
    "if __name__ == '__main__':  \n",
    "    a = [7438,3604,4900,5002,1050,560,366,2540];  \n",
    "    for i in range(len(a)):  \n",
    "        print('{0} 读作 {1}'.format(a[i], numberToChinese(a[i], '')))"
   ]
  },
  {
   "cell_type": "code",
   "execution_count": 5,
   "metadata": {
    "collapsed": false
   },
   "outputs": [
    {
     "name": "stdout",
     "output_type": "stream",
     "text": [
      "一千三百四十二 1342\n",
      "三千零六十九 3069\n",
      "七千零一 7001\n",
      "二千七百 2700\n",
      "一万 10000\n"
     ]
    }
   ],
   "source": [
    "if __name__ == '__main__':  \n",
    "    chineseToNumber('一千三百四十二');  \n",
    "    chineseToNumber('三千零六十九');  \n",
    "    chineseToNumber('七千零一');  \n",
    "    chineseToNumber('二千七百');  \n",
    "    chineseToNumber('一万');"
   ]
  },
  {
   "cell_type": "code",
   "execution_count": 6,
   "metadata": {
    "collapsed": false
   },
   "outputs": [
    {
     "name": "stdout",
     "output_type": "stream",
     "text": [
      "一百九十一 191\n",
      "六百八十六 686\n",
      "二千二百五十三 2253\n",
      "五千九百一十九 5919\n"
     ]
    }
   ],
   "source": [
    "if __name__ == '__main__':  \n",
    "    chineseToNumber('一百九十一');  \n",
    "    chineseToNumber('六百八十六');  \n",
    "    chineseToNumber('二千二百五十三');  \n",
    "    chineseToNumber('五千九百一十九')"
   ]
  },
  {
   "cell_type": "code",
   "execution_count": 7,
   "metadata": {
    "collapsed": false
   },
   "outputs": [
    {
     "name": "stdout",
     "output_type": "stream",
     "text": [
      "1003 1007 1012 1016 1021 1025 1030 1052 1056 1061 \n",
      "\n",
      "1065 1070 1102 1106 1111 1115 1120 1151 1155 1160 \n",
      "\n",
      "1201 1205 1210 1250 1300 1502 1506 1511 1515 1520 \n",
      "\n",
      "1551 1555 1560 1601 1605 1610 1650 1700 2002 2006 \n",
      "\n",
      "2011 2015 2020 2051 2055 2060 2101 2105 2110 2150 \n",
      "\n",
      "2200 2501 2505 2510 2550 2600 3001 3005 3010 3050 \n",
      "\n",
      "3100 3500 4000 5003 5007 5012 5016 5021 5025 5030 \n",
      "\n",
      "5052 5056 5061 5065 5070 5102 5106 5111 5115 5120 \n",
      "\n",
      "5151 5155 5160 5201 5205 5210 5250 5300 5502 5506 \n",
      "\n",
      "5511 5515 5520 5551 5555 5560 5601 5605 5610 5650 \n",
      "\n",
      "5700 6002 6006 6011 6015 6020 6051 6055 6060 6101 \n",
      "\n",
      "6105 6110 6150 6200 6501 6505 6510 6550 6600 7001 \n",
      "\n",
      "7005 7010 7050 7100 7500 8000 \n",
      "一共有126个数字可以用4颗算珠表示出来。\n"
     ]
    }
   ],
   "source": [
    "def tmp3():  \n",
    "    need = [0, 1, 2, 3, 4, 1, 2, 3,4,5];  \n",
    "    count = 0;  \n",
    "    total = 0;  \n",
    "    string = '';  \n",
    "    for i in range(1000, 10000):  \n",
    "        count = 0;  \n",
    "        string = str(i);  \n",
    "        for j in range(4):  \n",
    "            count += need[int(string[j])];  \n",
    "        if count == 4:  \n",
    "            print(i, end=' ');  \n",
    "            if total %10 == 9:  \n",
    "                print('\\n');  \n",
    "            total+=1;  \n",
    "    print('\\n一共有{0:>3}个数字可以用4颗算珠表示出来。'.format(total));\n",
    "    \n",
    "    \n",
    "tmp3()"
   ]
  },
  {
   "cell_type": "code",
   "execution_count": null,
   "metadata": {
    "collapsed": true
   },
   "outputs": [],
   "source": []
  }
 ],
 "metadata": {
  "kernelspec": {
   "display_name": "Python 3",
   "language": "python",
   "name": "python3"
  },
  "language_info": {
   "codemirror_mode": {
    "name": "ipython",
    "version": 3
   },
   "file_extension": ".py",
   "mimetype": "text/x-python",
   "name": "python",
   "nbconvert_exporter": "python",
   "pygments_lexer": "ipython3",
   "version": "3.5.2"
  }
 },
 "nbformat": 4,
 "nbformat_minor": 0
}
